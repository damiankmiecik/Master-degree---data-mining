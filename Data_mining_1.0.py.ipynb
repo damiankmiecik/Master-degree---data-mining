{
 "cells": [
  {
   "cell_type": "code",
   "execution_count": 1,
   "id": "59d439f1",
   "metadata": {},
   "outputs": [],
   "source": [
    "import pandas as pd\n",
    "import numpy as np\n",
    "import matplotlib.pyplot as plt\n",
    "import seaborn as sns\n",
    "import datetime as dt"
   ]
  },
  {
   "cell_type": "code",
   "execution_count": 201,
   "id": "9bebae40",
   "metadata": {},
   "outputs": [],
   "source": [
    "zbiór_danych = pd.read_csv('Desktop/Dane_pogodowe_Krakow_Balice_1.0 - Copy.csv', index_col = 0)"
   ]
  },
  {
   "cell_type": "code",
   "execution_count": 202,
   "id": "b3edb6d2",
   "metadata": {},
   "outputs": [
    {
     "data": {
      "text/html": [
       "<div>\n",
       "<style scoped>\n",
       "    .dataframe tbody tr th:only-of-type {\n",
       "        vertical-align: middle;\n",
       "    }\n",
       "\n",
       "    .dataframe tbody tr th {\n",
       "        vertical-align: top;\n",
       "    }\n",
       "\n",
       "    .dataframe thead th {\n",
       "        text-align: right;\n",
       "    }\n",
       "</style>\n",
       "<table border=\"1\" class=\"dataframe\">\n",
       "  <thead>\n",
       "    <tr style=\"text-align: right;\">\n",
       "      <th></th>\n",
       "      <th>t</th>\n",
       "      <th>tx</th>\n",
       "      <th>tn</th>\n",
       "      <th>tng</th>\n",
       "      <th>RH</th>\n",
       "      <th>VA</th>\n",
       "      <th>ch</th>\n",
       "      <th>sw</th>\n",
       "      <th>sw&gt;=10m</th>\n",
       "      <th>sw&gt;=15m</th>\n",
       "      <th>...</th>\n",
       "      <th>śnieg</th>\n",
       "      <th>śn rów</th>\n",
       "      <th>Usłone</th>\n",
       "      <th>op d</th>\n",
       "      <th>op ś</th>\n",
       "      <th>d z ś</th>\n",
       "      <th>mg</th>\n",
       "      <th>rosa</th>\n",
       "      <th>szron</th>\n",
       "      <th>burza</th>\n",
       "    </tr>\n",
       "    <tr>\n",
       "      <th>Data</th>\n",
       "      <th></th>\n",
       "      <th></th>\n",
       "      <th></th>\n",
       "      <th></th>\n",
       "      <th></th>\n",
       "      <th></th>\n",
       "      <th></th>\n",
       "      <th></th>\n",
       "      <th></th>\n",
       "      <th></th>\n",
       "      <th></th>\n",
       "      <th></th>\n",
       "      <th></th>\n",
       "      <th></th>\n",
       "      <th></th>\n",
       "      <th></th>\n",
       "      <th></th>\n",
       "      <th></th>\n",
       "      <th></th>\n",
       "      <th></th>\n",
       "      <th></th>\n",
       "    </tr>\n",
       "  </thead>\n",
       "  <tbody>\n",
       "    <tr>\n",
       "      <th>6/30/2023</th>\n",
       "      <td>20.9</td>\n",
       "      <td>27.6</td>\n",
       "      <td>12.4</td>\n",
       "      <td>10.0</td>\n",
       "      <td>64.1</td>\n",
       "      <td>15.1</td>\n",
       "      <td>5.1</td>\n",
       "      <td>2.0</td>\n",
       "      <td>0.0</td>\n",
       "      <td>0.0</td>\n",
       "      <td>...</td>\n",
       "      <td>NaN</td>\n",
       "      <td>0.0</td>\n",
       "      <td>NaN</td>\n",
       "      <td>0.3</td>\n",
       "      <td>NaN</td>\n",
       "      <td>NaN</td>\n",
       "      <td>NaN</td>\n",
       "      <td>NaN</td>\n",
       "      <td>NaN</td>\n",
       "      <td>NaN</td>\n",
       "    </tr>\n",
       "    <tr>\n",
       "      <th>6/29/2023</th>\n",
       "      <td>18.4</td>\n",
       "      <td>23.8</td>\n",
       "      <td>12.8</td>\n",
       "      <td>12.0</td>\n",
       "      <td>77.1</td>\n",
       "      <td>15.9</td>\n",
       "      <td>4.3</td>\n",
       "      <td>3.1</td>\n",
       "      <td>0.0</td>\n",
       "      <td>0.0</td>\n",
       "      <td>...</td>\n",
       "      <td>NaN</td>\n",
       "      <td>0.0</td>\n",
       "      <td>NaN</td>\n",
       "      <td>0.1</td>\n",
       "      <td>NaN</td>\n",
       "      <td>NaN</td>\n",
       "      <td>NaN</td>\n",
       "      <td>NaN</td>\n",
       "      <td>NaN</td>\n",
       "      <td>NaN</td>\n",
       "    </tr>\n",
       "    <tr>\n",
       "      <th>6/28/2023</th>\n",
       "      <td>14.8</td>\n",
       "      <td>20.7</td>\n",
       "      <td>9.2</td>\n",
       "      <td>8.0</td>\n",
       "      <td>74.6</td>\n",
       "      <td>12.3</td>\n",
       "      <td>4.9</td>\n",
       "      <td>5.5</td>\n",
       "      <td>1.3</td>\n",
       "      <td>0.0</td>\n",
       "      <td>...</td>\n",
       "      <td>NaN</td>\n",
       "      <td>0.0</td>\n",
       "      <td>NaN</td>\n",
       "      <td>6.7</td>\n",
       "      <td>NaN</td>\n",
       "      <td>NaN</td>\n",
       "      <td>NaN</td>\n",
       "      <td>NaN</td>\n",
       "      <td>NaN</td>\n",
       "      <td>NaN</td>\n",
       "    </tr>\n",
       "    <tr>\n",
       "      <th>6/27/2023</th>\n",
       "      <td>17.5</td>\n",
       "      <td>24.0</td>\n",
       "      <td>16.2</td>\n",
       "      <td>13.5</td>\n",
       "      <td>72.8</td>\n",
       "      <td>14.4</td>\n",
       "      <td>5.4</td>\n",
       "      <td>5.0</td>\n",
       "      <td>0.0</td>\n",
       "      <td>0.0</td>\n",
       "      <td>...</td>\n",
       "      <td>NaN</td>\n",
       "      <td>0.0</td>\n",
       "      <td>NaN</td>\n",
       "      <td>3.2</td>\n",
       "      <td>NaN</td>\n",
       "      <td>NaN</td>\n",
       "      <td>NaN</td>\n",
       "      <td>NaN</td>\n",
       "      <td>NaN</td>\n",
       "      <td>NaN</td>\n",
       "    </tr>\n",
       "    <tr>\n",
       "      <th>6/26/2023</th>\n",
       "      <td>20.2</td>\n",
       "      <td>26.8</td>\n",
       "      <td>12.0</td>\n",
       "      <td>10.5</td>\n",
       "      <td>61.6</td>\n",
       "      <td>13.8</td>\n",
       "      <td>2.0</td>\n",
       "      <td>1.5</td>\n",
       "      <td>0.0</td>\n",
       "      <td>0.0</td>\n",
       "      <td>...</td>\n",
       "      <td>NaN</td>\n",
       "      <td>0.0</td>\n",
       "      <td>NaN</td>\n",
       "      <td>NaN</td>\n",
       "      <td>NaN</td>\n",
       "      <td>NaN</td>\n",
       "      <td>NaN</td>\n",
       "      <td>6.0</td>\n",
       "      <td>NaN</td>\n",
       "      <td>NaN</td>\n",
       "    </tr>\n",
       "    <tr>\n",
       "      <th>...</th>\n",
       "      <td>...</td>\n",
       "      <td>...</td>\n",
       "      <td>...</td>\n",
       "      <td>...</td>\n",
       "      <td>...</td>\n",
       "      <td>...</td>\n",
       "      <td>...</td>\n",
       "      <td>...</td>\n",
       "      <td>...</td>\n",
       "      <td>...</td>\n",
       "      <td>...</td>\n",
       "      <td>...</td>\n",
       "      <td>...</td>\n",
       "      <td>...</td>\n",
       "      <td>...</td>\n",
       "      <td>...</td>\n",
       "      <td>...</td>\n",
       "      <td>...</td>\n",
       "      <td>...</td>\n",
       "      <td>...</td>\n",
       "      <td>...</td>\n",
       "    </tr>\n",
       "    <tr>\n",
       "      <th>1/26/2023</th>\n",
       "      <td>-0.7</td>\n",
       "      <td>0.8</td>\n",
       "      <td>-0.9</td>\n",
       "      <td>-1.6</td>\n",
       "      <td>84.3</td>\n",
       "      <td>4.9</td>\n",
       "      <td>7.9</td>\n",
       "      <td>2.3</td>\n",
       "      <td>0.0</td>\n",
       "      <td>0.0</td>\n",
       "      <td>...</td>\n",
       "      <td>NaN</td>\n",
       "      <td>0.0</td>\n",
       "      <td>NaN</td>\n",
       "      <td>NaN</td>\n",
       "      <td>1.8</td>\n",
       "      <td>NaN</td>\n",
       "      <td>NaN</td>\n",
       "      <td>NaN</td>\n",
       "      <td>NaN</td>\n",
       "      <td>NaN</td>\n",
       "    </tr>\n",
       "    <tr>\n",
       "      <th>1/25/2023</th>\n",
       "      <td>0.7</td>\n",
       "      <td>1.8</td>\n",
       "      <td>0.0</td>\n",
       "      <td>-0.8</td>\n",
       "      <td>89.1</td>\n",
       "      <td>5.7</td>\n",
       "      <td>8.0</td>\n",
       "      <td>1.6</td>\n",
       "      <td>0.0</td>\n",
       "      <td>0.0</td>\n",
       "      <td>...</td>\n",
       "      <td>NaN</td>\n",
       "      <td>0.0</td>\n",
       "      <td>NaN</td>\n",
       "      <td>4.6</td>\n",
       "      <td>3.0</td>\n",
       "      <td>NaN</td>\n",
       "      <td>NaN</td>\n",
       "      <td>NaN</td>\n",
       "      <td>NaN</td>\n",
       "      <td>NaN</td>\n",
       "    </tr>\n",
       "    <tr>\n",
       "      <th>1/24/2023</th>\n",
       "      <td>1.7</td>\n",
       "      <td>2.2</td>\n",
       "      <td>1.1</td>\n",
       "      <td>0.9</td>\n",
       "      <td>96.4</td>\n",
       "      <td>6.6</td>\n",
       "      <td>8.0</td>\n",
       "      <td>4.4</td>\n",
       "      <td>0.0</td>\n",
       "      <td>0.0</td>\n",
       "      <td>...</td>\n",
       "      <td>NaN</td>\n",
       "      <td>0.0</td>\n",
       "      <td>NaN</td>\n",
       "      <td>18.0</td>\n",
       "      <td>NaN</td>\n",
       "      <td>NaN</td>\n",
       "      <td>1.4</td>\n",
       "      <td>NaN</td>\n",
       "      <td>NaN</td>\n",
       "      <td>NaN</td>\n",
       "    </tr>\n",
       "    <tr>\n",
       "      <th>1/23/2023</th>\n",
       "      <td>1.3</td>\n",
       "      <td>2.2</td>\n",
       "      <td>0.4</td>\n",
       "      <td>0.0</td>\n",
       "      <td>97.0</td>\n",
       "      <td>6.5</td>\n",
       "      <td>8.0</td>\n",
       "      <td>2.3</td>\n",
       "      <td>0.0</td>\n",
       "      <td>0.0</td>\n",
       "      <td>...</td>\n",
       "      <td>5.0</td>\n",
       "      <td>1.8</td>\n",
       "      <td>NaN</td>\n",
       "      <td>16.6</td>\n",
       "      <td>NaN</td>\n",
       "      <td>NaN</td>\n",
       "      <td>3.2</td>\n",
       "      <td>NaN</td>\n",
       "      <td>NaN</td>\n",
       "      <td>NaN</td>\n",
       "    </tr>\n",
       "    <tr>\n",
       "      <th>1/22/2023</th>\n",
       "      <td>0.3</td>\n",
       "      <td>1.0</td>\n",
       "      <td>-0.5</td>\n",
       "      <td>-1.3</td>\n",
       "      <td>93.6</td>\n",
       "      <td>5.8</td>\n",
       "      <td>8.0</td>\n",
       "      <td>3.0</td>\n",
       "      <td>0.0</td>\n",
       "      <td>0.0</td>\n",
       "      <td>...</td>\n",
       "      <td>8.0</td>\n",
       "      <td>1.4</td>\n",
       "      <td>NaN</td>\n",
       "      <td>0.8</td>\n",
       "      <td>5.0</td>\n",
       "      <td>NaN</td>\n",
       "      <td>2.7</td>\n",
       "      <td>NaN</td>\n",
       "      <td>NaN</td>\n",
       "      <td>NaN</td>\n",
       "    </tr>\n",
       "  </tbody>\n",
       "</table>\n",
       "<p>160 rows × 25 columns</p>\n",
       "</div>"
      ],
      "text/plain": [
       "              t    tx    tn   tng    RH    VA   ch   sw  sw>=10m  sw>=15m  \\\n",
       "Data                                                                        \n",
       "6/30/2023  20.9  27.6  12.4  10.0  64.1  15.1  5.1  2.0      0.0      0.0   \n",
       "6/29/2023  18.4  23.8  12.8  12.0  77.1  15.9  4.3  3.1      0.0      0.0   \n",
       "6/28/2023  14.8  20.7   9.2   8.0  74.6  12.3  4.9  5.5      1.3      0.0   \n",
       "6/27/2023  17.5  24.0  16.2  13.5  72.8  14.4  5.4  5.0      0.0      0.0   \n",
       "6/26/2023  20.2  26.8  12.0  10.5  61.6  13.8  2.0  1.5      0.0      0.0   \n",
       "...         ...   ...   ...   ...   ...   ...  ...  ...      ...      ...   \n",
       "1/26/2023  -0.7   0.8  -0.9  -1.6  84.3   4.9  7.9  2.3      0.0      0.0   \n",
       "1/25/2023   0.7   1.8   0.0  -0.8  89.1   5.7  8.0  1.6      0.0      0.0   \n",
       "1/24/2023   1.7   2.2   1.1   0.9  96.4   6.6  8.0  4.4      0.0      0.0   \n",
       "1/23/2023   1.3   2.2   0.4   0.0  97.0   6.5  8.0  2.3      0.0      0.0   \n",
       "1/22/2023   0.3   1.0  -0.5  -1.3  93.6   5.8  8.0  3.0      0.0      0.0   \n",
       "\n",
       "           ...  śnieg  śn rów  Usłone  op d  op ś  d z ś   mg  rosa  szron  \\\n",
       "Data       ...                                                               \n",
       "6/30/2023  ...    NaN     0.0     NaN   0.3   NaN    NaN  NaN   NaN    NaN   \n",
       "6/29/2023  ...    NaN     0.0     NaN   0.1   NaN    NaN  NaN   NaN    NaN   \n",
       "6/28/2023  ...    NaN     0.0     NaN   6.7   NaN    NaN  NaN   NaN    NaN   \n",
       "6/27/2023  ...    NaN     0.0     NaN   3.2   NaN    NaN  NaN   NaN    NaN   \n",
       "6/26/2023  ...    NaN     0.0     NaN   NaN   NaN    NaN  NaN   6.0    NaN   \n",
       "...        ...    ...     ...     ...   ...   ...    ...  ...   ...    ...   \n",
       "1/26/2023  ...    NaN     0.0     NaN   NaN   1.8    NaN  NaN   NaN    NaN   \n",
       "1/25/2023  ...    NaN     0.0     NaN   4.6   3.0    NaN  NaN   NaN    NaN   \n",
       "1/24/2023  ...    NaN     0.0     NaN  18.0   NaN    NaN  1.4   NaN    NaN   \n",
       "1/23/2023  ...    5.0     1.8     NaN  16.6   NaN    NaN  3.2   NaN    NaN   \n",
       "1/22/2023  ...    8.0     1.4     NaN   0.8   5.0    NaN  2.7   NaN    NaN   \n",
       "\n",
       "           burza  \n",
       "Data              \n",
       "6/30/2023    NaN  \n",
       "6/29/2023    NaN  \n",
       "6/28/2023    NaN  \n",
       "6/27/2023    NaN  \n",
       "6/26/2023    NaN  \n",
       "...          ...  \n",
       "1/26/2023    NaN  \n",
       "1/25/2023    NaN  \n",
       "1/24/2023    NaN  \n",
       "1/23/2023    NaN  \n",
       "1/22/2023    NaN  \n",
       "\n",
       "[160 rows x 25 columns]"
      ]
     },
     "execution_count": 202,
     "metadata": {},
     "output_type": "execute_result"
    }
   ],
   "source": [
    "zbiór_danych.head(160)"
   ]
  },
  {
   "cell_type": "code",
   "execution_count": 203,
   "id": "3707b348",
   "metadata": {},
   "outputs": [
    {
     "data": {
      "text/plain": [
       "t          0.000000\n",
       "tx         0.000000\n",
       "tn         0.000000\n",
       "tng        0.000000\n",
       "RH         0.000000\n",
       "VA         0.000000\n",
       "ch         0.000000\n",
       "sw         0.000000\n",
       "sw>=10m    0.000000\n",
       "sw>=15m    0.000000\n",
       "mslp       0.000000\n",
       "ppp        0.000000\n",
       "RRR        0.000000\n",
       "Opad d     0.000000\n",
       "Opad n     0.000000\n",
       "śnieg      0.853232\n",
       "śn rów     0.027462\n",
       "Usłone     0.501203\n",
       "op d       0.527669\n",
       "op ś       0.842944\n",
       "d z ś      0.955696\n",
       "mg         0.839874\n",
       "rosa       0.614785\n",
       "szron      0.909649\n",
       "burza      0.920186\n",
       "dtype: float64"
      ]
     },
     "execution_count": 203,
     "metadata": {},
     "output_type": "execute_result"
    }
   ],
   "source": [
    "zbiór_danych.apply(pd.isnull).sum()/zbiór_danych.shape[0]"
   ]
  },
  {
   "cell_type": "code",
   "execution_count": 204,
   "id": "c11c7c2e",
   "metadata": {},
   "outputs": [
    {
     "data": {
      "text/plain": [
       "2.0     287\n",
       "1.0     204\n",
       "3.0     166\n",
       "4.0     163\n",
       "6.0      89\n",
       "7.0      87\n",
       "8.0      81\n",
       "10.0     69\n",
       "9.0      68\n",
       "5.0      66\n",
       "13.0     54\n",
       "11.0     53\n",
       "12.0     47\n",
       "14.0     38\n",
       "16.0     35\n",
       "15.0     34\n",
       "17.0     29\n",
       "20.0     29\n",
       "18.0     28\n",
       "19.0     22\n",
       "21.0     20\n",
       "25.0     17\n",
       "22.0     16\n",
       "24.0     14\n",
       "23.0     11\n",
       "26.0      9\n",
       "30.0      6\n",
       "29.0      6\n",
       "27.0      5\n",
       "28.0      4\n",
       "36.0      4\n",
       "37.0      3\n",
       "32.0      1\n",
       "31.0      1\n",
       "35.0      1\n",
       "39.0      1\n",
       "33.0      1\n",
       "Name: śnieg, dtype: int64"
      ]
     },
     "execution_count": 204,
     "metadata": {},
     "output_type": "execute_result"
    }
   ],
   "source": [
    "zbiór_danych['śnieg'].value_counts()"
   ]
  },
  {
   "cell_type": "code",
   "execution_count": 205,
   "id": "bfb639c9",
   "metadata": {},
   "outputs": [],
   "source": [
    "skrócony_zbiór_danych = zbiór_danych[['t','tx','tn','tng','op d', 'op ś', 'd z ś', 'ch']].copy()"
   ]
  },
  {
   "cell_type": "code",
   "execution_count": 206,
   "id": "4c71f028",
   "metadata": {},
   "outputs": [],
   "source": [
    "skrócony_zbiór_danych.columns = [['śr_temp', 'maks_temp', 'min_temp', 'grunt_temp', 'opad_deszczu', 'opad_śniegu', 'deszcz_ze_śniegiem', 'chmury']]"
   ]
  },
  {
   "cell_type": "code",
   "execution_count": 207,
   "id": "39b11567",
   "metadata": {
    "scrolled": true
   },
   "outputs": [
    {
     "data": {
      "text/plain": [
       "(śr_temp,)  (maks_temp,)  (min_temp,)  (grunt_temp,)  (opad_deszczu,)  (opad_śniegu,)  (deszcz_ze_śniegiem,)  (chmury,)\n",
       "-7.4        -2.3          -8.7         -13.0          1.7              20.0            1.9                    8.0          1\n",
       " 2.1         3.5           1.0          0.5           7.1              0.8             1.4                    7.5          1\n",
       "             5.7           0.4         -2.6           11.8             5.9             1.0                    7.3          1\n",
       "             5.3           0.5         -0.4           10.9             1.6             10.0                   8.0          1\n",
       "             5.2           0.2         -0.8           7.8              2.7             2.1                    7.6          1\n",
       "                                                                                                                          ..\n",
       " 0.8         5.1           0.2          0.0           0.5              8.4             8.8                    8.0          1\n",
       "             4.0          -2.0         -5.3           2.0              1.7             3.0                    4.9          1\n",
       "             3.4          -0.6         -2.4           0.6              4.7             0.8                    7.1          1\n",
       "             2.6          -1.4         -2.0           2.8              3.8             4.7                    5.9          1\n",
       " 6.0         12.7          0.5          0.4           6.4              8.8             1.3                    7.9          1\n",
       "Length: 306, dtype: int64"
      ]
     },
     "execution_count": 207,
     "metadata": {},
     "output_type": "execute_result"
    }
   ],
   "source": [
    "skrócony_zbiór_danych.value_counts()"
   ]
  },
  {
   "cell_type": "code",
   "execution_count": 208,
   "id": "2f64345c",
   "metadata": {},
   "outputs": [
    {
     "data": {
      "text/plain": [
       "śr_temp                   0\n",
       "maks_temp                 0\n",
       "min_temp                  0\n",
       "grunt_temp                0\n",
       "opad_deszczu           6360\n",
       "opad_śniegu           10160\n",
       "deszcz_ze_śniegiem    11519\n",
       "chmury                    0\n",
       "dtype: int64"
      ]
     },
     "execution_count": 208,
     "metadata": {},
     "output_type": "execute_result"
    }
   ],
   "source": [
    "skrócony_zbiór_danych.isna().sum()"
   ]
  },
  {
   "cell_type": "code",
   "execution_count": 209,
   "id": "22138ddf",
   "metadata": {
    "scrolled": true
   },
   "outputs": [
    {
     "data": {
      "text/html": [
       "<div>\n",
       "<style scoped>\n",
       "    .dataframe tbody tr th:only-of-type {\n",
       "        vertical-align: middle;\n",
       "    }\n",
       "\n",
       "    .dataframe tbody tr th {\n",
       "        vertical-align: top;\n",
       "    }\n",
       "\n",
       "    .dataframe thead tr th {\n",
       "        text-align: left;\n",
       "    }\n",
       "\n",
       "    .dataframe thead tr:last-of-type th {\n",
       "        text-align: right;\n",
       "    }\n",
       "</style>\n",
       "<table border=\"1\" class=\"dataframe\">\n",
       "  <thead>\n",
       "    <tr>\n",
       "      <th></th>\n",
       "      <th>śr_temp</th>\n",
       "      <th>maks_temp</th>\n",
       "      <th>min_temp</th>\n",
       "      <th>grunt_temp</th>\n",
       "      <th>opad_deszczu</th>\n",
       "      <th>opad_śniegu</th>\n",
       "      <th>deszcz_ze_śniegiem</th>\n",
       "      <th>chmury</th>\n",
       "    </tr>\n",
       "    <tr>\n",
       "      <th>Data</th>\n",
       "      <th></th>\n",
       "      <th></th>\n",
       "      <th></th>\n",
       "      <th></th>\n",
       "      <th></th>\n",
       "      <th></th>\n",
       "      <th></th>\n",
       "      <th></th>\n",
       "    </tr>\n",
       "  </thead>\n",
       "  <tbody>\n",
       "    <tr>\n",
       "      <th>6/30/2023</th>\n",
       "      <td>20.9</td>\n",
       "      <td>27.6</td>\n",
       "      <td>12.4</td>\n",
       "      <td>10.0</td>\n",
       "      <td>0.3</td>\n",
       "      <td>NaN</td>\n",
       "      <td>NaN</td>\n",
       "      <td>5.1</td>\n",
       "    </tr>\n",
       "    <tr>\n",
       "      <th>6/29/2023</th>\n",
       "      <td>18.4</td>\n",
       "      <td>23.8</td>\n",
       "      <td>12.8</td>\n",
       "      <td>12.0</td>\n",
       "      <td>0.1</td>\n",
       "      <td>NaN</td>\n",
       "      <td>NaN</td>\n",
       "      <td>4.3</td>\n",
       "    </tr>\n",
       "    <tr>\n",
       "      <th>6/28/2023</th>\n",
       "      <td>14.8</td>\n",
       "      <td>20.7</td>\n",
       "      <td>9.2</td>\n",
       "      <td>8.0</td>\n",
       "      <td>6.7</td>\n",
       "      <td>NaN</td>\n",
       "      <td>NaN</td>\n",
       "      <td>4.9</td>\n",
       "    </tr>\n",
       "    <tr>\n",
       "      <th>6/27/2023</th>\n",
       "      <td>17.5</td>\n",
       "      <td>24.0</td>\n",
       "      <td>16.2</td>\n",
       "      <td>13.5</td>\n",
       "      <td>3.2</td>\n",
       "      <td>NaN</td>\n",
       "      <td>NaN</td>\n",
       "      <td>5.4</td>\n",
       "    </tr>\n",
       "    <tr>\n",
       "      <th>6/26/2023</th>\n",
       "      <td>20.2</td>\n",
       "      <td>26.8</td>\n",
       "      <td>12.0</td>\n",
       "      <td>10.5</td>\n",
       "      <td>NaN</td>\n",
       "      <td>NaN</td>\n",
       "      <td>NaN</td>\n",
       "      <td>2.0</td>\n",
       "    </tr>\n",
       "  </tbody>\n",
       "</table>\n",
       "</div>"
      ],
      "text/plain": [
       "          śr_temp maks_temp min_temp grunt_temp opad_deszczu opad_śniegu  \\\n",
       "Data                                                                       \n",
       "6/30/2023    20.9      27.6     12.4       10.0          0.3         NaN   \n",
       "6/29/2023    18.4      23.8     12.8       12.0          0.1         NaN   \n",
       "6/28/2023    14.8      20.7      9.2        8.0          6.7         NaN   \n",
       "6/27/2023    17.5      24.0     16.2       13.5          3.2         NaN   \n",
       "6/26/2023    20.2      26.8     12.0       10.5          NaN         NaN   \n",
       "\n",
       "          deszcz_ze_śniegiem chmury  \n",
       "Data                                 \n",
       "6/30/2023                NaN    5.1  \n",
       "6/29/2023                NaN    4.3  \n",
       "6/28/2023                NaN    4.9  \n",
       "6/27/2023                NaN    5.4  \n",
       "6/26/2023                NaN    2.0  "
      ]
     },
     "execution_count": 209,
     "metadata": {},
     "output_type": "execute_result"
    }
   ],
   "source": [
    "skrócony_zbiór_danych.head()"
   ]
  },
  {
   "cell_type": "code",
   "execution_count": 210,
   "id": "aec9f5bc",
   "metadata": {},
   "outputs": [
    {
     "data": {
      "text/plain": [
       "śr_temp               float64\n",
       "maks_temp             float64\n",
       "min_temp              float64\n",
       "grunt_temp            float64\n",
       "opad_deszczu          float64\n",
       "opad_śniegu           float64\n",
       "deszcz_ze_śniegiem    float64\n",
       "chmury                float64\n",
       "dtype: object"
      ]
     },
     "execution_count": 210,
     "metadata": {},
     "output_type": "execute_result"
    }
   ],
   "source": [
    "skrócony_zbiór_danych.dtypes"
   ]
  },
  {
   "cell_type": "code",
   "execution_count": 211,
   "id": "19f48eeb",
   "metadata": {},
   "outputs": [
    {
     "data": {
      "text/plain": [
       "DatetimeIndex(['2023-06-30', '2023-06-29', '2023-06-28', '2023-06-27',\n",
       "               '2023-06-26', '2023-06-25', '2023-06-24', '2023-06-23',\n",
       "               '2023-06-22', '2023-06-21',\n",
       "               ...\n",
       "               '1990-07-10', '1990-07-09', '1990-07-08', '1990-07-07',\n",
       "               '1990-07-06', '1990-07-05', '1990-07-04', '1990-07-03',\n",
       "               '1990-07-02', '1990-07-01'],\n",
       "              dtype='datetime64[ns]', name='Data', length=12053, freq=None)"
      ]
     },
     "execution_count": 211,
     "metadata": {},
     "output_type": "execute_result"
    }
   ],
   "source": [
    "skrócony_zbiór_danych.index = skrócony_zbiór_danych.index.astype('datetime64')\n",
    "skrócony_zbiór_danych.index"
   ]
  },
  {
   "cell_type": "code",
   "execution_count": 212,
   "id": "aa32d5f9",
   "metadata": {},
   "outputs": [
    {
     "data": {
      "text/plain": [
       "1990    184\n",
       "1991    365\n",
       "1992    366\n",
       "1993    365\n",
       "1994    365\n",
       "1995    365\n",
       "1996    366\n",
       "1997    365\n",
       "1998    365\n",
       "1999    365\n",
       "2000    366\n",
       "2001    365\n",
       "2002    365\n",
       "2003    365\n",
       "2004    366\n",
       "2005    365\n",
       "2006    365\n",
       "2007    365\n",
       "2008    366\n",
       "2009    365\n",
       "2010    365\n",
       "2011    365\n",
       "2012    366\n",
       "2013    365\n",
       "2014    365\n",
       "2015    365\n",
       "2016    366\n",
       "2017    365\n",
       "2018    365\n",
       "2019    365\n",
       "2020    366\n",
       "2021    365\n",
       "2022    365\n",
       "2023    181\n",
       "Name: Data, dtype: int64"
      ]
     },
     "execution_count": 212,
     "metadata": {},
     "output_type": "execute_result"
    }
   ],
   "source": [
    "skrócony_zbiór_danych.index.year.value_counts().sort_index()"
   ]
  },
  {
   "cell_type": "code",
   "execution_count": 213,
   "id": "f51b1207",
   "metadata": {},
   "outputs": [
    {
     "data": {
      "text/plain": [
       "<Axes: xlabel='Data'>"
      ]
     },
     "execution_count": 213,
     "metadata": {},
     "output_type": "execute_result"
    },
    {
     "data": {
      "image/png": "[encoded data removed]",
      "text/plain": [
       "<Figure size 640x480 with 1 Axes>"
      ]
     },
     "metadata": {},
     "output_type": "display_data"
    }
   ],
   "source": [
    "skrócony_zbiór_danych[['maks_temp', 'min_temp', 'śr_temp']].plot()"
   ]
  },
  {
   "cell_type": "code",
   "execution_count": 214,
   "id": "ef2e5db4",
   "metadata": {},
   "outputs": [
    {
     "data": {
      "text/plain": [
       "<Axes: xlabel='Data'>"
      ]
     },
     "execution_count": 214,
     "metadata": {},
     "output_type": "execute_result"
    },
    {
     "data": {
      "image/png": "[encoded data removed]",
      "text/plain": [
       "<Figure size 640x480 with 1 Axes>"
      ]
     },
     "metadata": {},
     "output_type": "display_data"
    }
   ],
   "source": [
    "skrócony_zbiór_danych.groupby(skrócony_zbiór_danych.index.year).sum()['opad_śniegu'].plot()"
   ]
  },
  {
   "cell_type": "code",
   "execution_count": 215,
   "id": "b984746b",
   "metadata": {},
   "outputs": [],
   "source": [
    "skrócony_zbiór_danych['docelowa_temp'] = skrócony_zbiór_danych.shift(-1)['śr_temp']"
   ]
  },
  {
   "cell_type": "code",
   "execution_count": 216,
   "id": "5909d331",
   "metadata": {},
   "outputs": [],
   "source": [
    "skrócony_zbiór_danych = skrócony_zbiór_danych.iloc[:-1,:].copy()"
   ]
  },
  {
   "cell_type": "code",
   "execution_count": 217,
   "id": "48d15ca0",
   "metadata": {},
   "outputs": [
    {
     "data": {
      "text/html": [
       "<div>\n",
       "<style scoped>\n",
       "    .dataframe tbody tr th:only-of-type {\n",
       "        vertical-align: middle;\n",
       "    }\n",
       "\n",
       "    .dataframe tbody tr th {\n",
       "        vertical-align: top;\n",
       "    }\n",
       "\n",
       "    .dataframe thead tr th {\n",
       "        text-align: left;\n",
       "    }\n",
       "\n",
       "    .dataframe thead tr:last-of-type th {\n",
       "        text-align: right;\n",
       "    }\n",
       "</style>\n",
       "<table border=\"1\" class=\"dataframe\">\n",
       "  <thead>\n",
       "    <tr>\n",
       "      <th></th>\n",
       "      <th>śr_temp</th>\n",
       "      <th>maks_temp</th>\n",
       "      <th>min_temp</th>\n",
       "      <th>grunt_temp</th>\n",
       "      <th>opad_deszczu</th>\n",
       "      <th>opad_śniegu</th>\n",
       "      <th>deszcz_ze_śniegiem</th>\n",
       "      <th>chmury</th>\n",
       "      <th>docelowa_temp</th>\n",
       "    </tr>\n",
       "    <tr>\n",
       "      <th>Data</th>\n",
       "      <th></th>\n",
       "      <th></th>\n",
       "      <th></th>\n",
       "      <th></th>\n",
       "      <th></th>\n",
       "      <th></th>\n",
       "      <th></th>\n",
       "      <th></th>\n",
       "      <th></th>\n",
       "    </tr>\n",
       "  </thead>\n",
       "  <tbody>\n",
       "    <tr>\n",
       "      <th>2023-06-30</th>\n",
       "      <td>20.9</td>\n",
       "      <td>27.6</td>\n",
       "      <td>12.4</td>\n",
       "      <td>10.0</td>\n",
       "      <td>0.3</td>\n",
       "      <td>NaN</td>\n",
       "      <td>NaN</td>\n",
       "      <td>5.1</td>\n",
       "      <td>18.4</td>\n",
       "    </tr>\n",
       "    <tr>\n",
       "      <th>2023-06-29</th>\n",
       "      <td>18.4</td>\n",
       "      <td>23.8</td>\n",
       "      <td>12.8</td>\n",
       "      <td>12.0</td>\n",
       "      <td>0.1</td>\n",
       "      <td>NaN</td>\n",
       "      <td>NaN</td>\n",
       "      <td>4.3</td>\n",
       "      <td>14.8</td>\n",
       "    </tr>\n",
       "    <tr>\n",
       "      <th>2023-06-28</th>\n",
       "      <td>14.8</td>\n",
       "      <td>20.7</td>\n",
       "      <td>9.2</td>\n",
       "      <td>8.0</td>\n",
       "      <td>6.7</td>\n",
       "      <td>NaN</td>\n",
       "      <td>NaN</td>\n",
       "      <td>4.9</td>\n",
       "      <td>17.5</td>\n",
       "    </tr>\n",
       "    <tr>\n",
       "      <th>2023-06-27</th>\n",
       "      <td>17.5</td>\n",
       "      <td>24.0</td>\n",
       "      <td>16.2</td>\n",
       "      <td>13.5</td>\n",
       "      <td>3.2</td>\n",
       "      <td>NaN</td>\n",
       "      <td>NaN</td>\n",
       "      <td>5.4</td>\n",
       "      <td>20.2</td>\n",
       "    </tr>\n",
       "    <tr>\n",
       "      <th>2023-06-26</th>\n",
       "      <td>20.2</td>\n",
       "      <td>26.8</td>\n",
       "      <td>12.0</td>\n",
       "      <td>10.5</td>\n",
       "      <td>NaN</td>\n",
       "      <td>NaN</td>\n",
       "      <td>NaN</td>\n",
       "      <td>2.0</td>\n",
       "      <td>19.0</td>\n",
       "    </tr>\n",
       "    <tr>\n",
       "      <th>...</th>\n",
       "      <td>...</td>\n",
       "      <td>...</td>\n",
       "      <td>...</td>\n",
       "      <td>...</td>\n",
       "      <td>...</td>\n",
       "      <td>...</td>\n",
       "      <td>...</td>\n",
       "      <td>...</td>\n",
       "      <td>...</td>\n",
       "    </tr>\n",
       "    <tr>\n",
       "      <th>1990-07-06</th>\n",
       "      <td>15.3</td>\n",
       "      <td>20.4</td>\n",
       "      <td>14.3</td>\n",
       "      <td>12.8</td>\n",
       "      <td>17.3</td>\n",
       "      <td>NaN</td>\n",
       "      <td>NaN</td>\n",
       "      <td>8.0</td>\n",
       "      <td>16.3</td>\n",
       "    </tr>\n",
       "    <tr>\n",
       "      <th>1990-07-05</th>\n",
       "      <td>16.3</td>\n",
       "      <td>21.9</td>\n",
       "      <td>11.8</td>\n",
       "      <td>11.5</td>\n",
       "      <td>4.1</td>\n",
       "      <td>NaN</td>\n",
       "      <td>NaN</td>\n",
       "      <td>5.5</td>\n",
       "      <td>15.2</td>\n",
       "    </tr>\n",
       "    <tr>\n",
       "      <th>1990-07-04</th>\n",
       "      <td>15.2</td>\n",
       "      <td>18.3</td>\n",
       "      <td>13.5</td>\n",
       "      <td>11.7</td>\n",
       "      <td>9.3</td>\n",
       "      <td>NaN</td>\n",
       "      <td>NaN</td>\n",
       "      <td>7.6</td>\n",
       "      <td>15.8</td>\n",
       "    </tr>\n",
       "    <tr>\n",
       "      <th>1990-07-03</th>\n",
       "      <td>15.8</td>\n",
       "      <td>20.2</td>\n",
       "      <td>13.2</td>\n",
       "      <td>12.8</td>\n",
       "      <td>6.4</td>\n",
       "      <td>NaN</td>\n",
       "      <td>NaN</td>\n",
       "      <td>6.5</td>\n",
       "      <td>17.9</td>\n",
       "    </tr>\n",
       "    <tr>\n",
       "      <th>1990-07-02</th>\n",
       "      <td>17.9</td>\n",
       "      <td>22.4</td>\n",
       "      <td>14.3</td>\n",
       "      <td>11.2</td>\n",
       "      <td>3.7</td>\n",
       "      <td>NaN</td>\n",
       "      <td>NaN</td>\n",
       "      <td>6.6</td>\n",
       "      <td>21.3</td>\n",
       "    </tr>\n",
       "  </tbody>\n",
       "</table>\n",
       "<p>12052 rows × 9 columns</p>\n",
       "</div>"
      ],
      "text/plain": [
       "           śr_temp maks_temp min_temp grunt_temp opad_deszczu opad_śniegu  \\\n",
       "Data                                                                        \n",
       "2023-06-30    20.9      27.6     12.4       10.0          0.3         NaN   \n",
       "2023-06-29    18.4      23.8     12.8       12.0          0.1         NaN   \n",
       "2023-06-28    14.8      20.7      9.2        8.0          6.7         NaN   \n",
       "2023-06-27    17.5      24.0     16.2       13.5          3.2         NaN   \n",
       "2023-06-26    20.2      26.8     12.0       10.5          NaN         NaN   \n",
       "...            ...       ...      ...        ...          ...         ...   \n",
       "1990-07-06    15.3      20.4     14.3       12.8         17.3         NaN   \n",
       "1990-07-05    16.3      21.9     11.8       11.5          4.1         NaN   \n",
       "1990-07-04    15.2      18.3     13.5       11.7          9.3         NaN   \n",
       "1990-07-03    15.8      20.2     13.2       12.8          6.4         NaN   \n",
       "1990-07-02    17.9      22.4     14.3       11.2          3.7         NaN   \n",
       "\n",
       "           deszcz_ze_śniegiem chmury docelowa_temp  \n",
       "Data                                                \n",
       "2023-06-30                NaN    5.1          18.4  \n",
       "2023-06-29                NaN    4.3          14.8  \n",
       "2023-06-28                NaN    4.9          17.5  \n",
       "2023-06-27                NaN    5.4          20.2  \n",
       "2023-06-26                NaN    2.0          19.0  \n",
       "...                       ...    ...           ...  \n",
       "1990-07-06                NaN    8.0          16.3  \n",
       "1990-07-05                NaN    5.5          15.2  \n",
       "1990-07-04                NaN    7.6          15.8  \n",
       "1990-07-03                NaN    6.5          17.9  \n",
       "1990-07-02                NaN    6.6          21.3  \n",
       "\n",
       "[12052 rows x 9 columns]"
      ]
     },
     "execution_count": 217,
     "metadata": {},
     "output_type": "execute_result"
    }
   ],
   "source": [
    "skrócony_zbiór_danych"
   ]
  },
  {
   "cell_type": "code",
   "execution_count": 218,
   "id": "2a7b0893",
   "metadata": {},
   "outputs": [],
   "source": [
    "from sklearn.linear_model import Ridge, Lasso\n",
    "from sklearn.metrics import mean_absolute_error\n"
   ]
  },
  {
   "cell_type": "code",
   "execution_count": 236,
   "id": "98cd8236",
   "metadata": {},
   "outputs": [],
   "source": [
    "regresja_liniowa_Ridge = Ridge(alpha = 0.1)\n",
    "regresja_liniowa_Lasso = Lasso(alpha = 0.1)"
   ]
  },
  {
   "cell_type": "code",
   "execution_count": 237,
   "id": "705947bd",
   "metadata": {},
   "outputs": [],
   "source": [
    "predyktory = ['śr_temp','maks_temp','min_temp']"
   ]
  },
  {
   "cell_type": "code",
   "execution_count": 238,
   "id": "ebc04dca",
   "metadata": {},
   "outputs": [],
   "source": [
    "dane_treningowe_1 = skrócony_zbiór_danych.loc[:\"2017-01-01\"]\n",
    "dane_testowe_1 = skrócony_zbiór_danych.loc[\"2017-01-02\":]\n",
    "dane_treningowe = skrócony_zbiór_danych.loc[:\"2017-01-01\"]\n",
    "dane_testowe = skrócony_zbiór_danych.loc[\"2017-01-02\":]"
   ]
  },
  {
   "cell_type": "code",
   "execution_count": 239,
   "id": "f5109129",
   "metadata": {},
   "outputs": [
    {
     "data": {
      "text/html": [
       "<style>#sk-container-id-4 {color: black;background-color: white;}#sk-container-id-4 pre{padding: 0;}#sk-container-id-4 div.sk-toggleable {background-color: white;}#sk-container-id-4 label.sk-toggleable__label {cursor: pointer;display: block;width: 100%;margin-bottom: 0;padding: 0.3em;box-sizing: border-box;text-align: center;}#sk-container-id-4 label.sk-toggleable__label-arrow:before {content: \"▸\";float: left;margin-right: 0.25em;color: #696969;}#sk-container-id-4 label.sk-toggleable__label-arrow:hover:before {color: black;}#sk-container-id-4 div.sk-estimator:hover label.sk-toggleable__label-arrow:before {color: black;}#sk-container-id-4 div.sk-toggleable__content {max-height: 0;max-width: 0;overflow: hidden;text-align: left;background-color: #f0f8ff;}#sk-container-id-4 div.sk-toggleable__content pre {margin: 0.2em;color: black;border-radius: 0.25em;background-color: #f0f8ff;}#sk-container-id-4 input.sk-toggleable__control:checked~div.sk-toggleable__content {max-height: 200px;max-width: 100%;overflow: auto;}#sk-container-id-4 input.sk-toggleable__control:checked~label.sk-toggleable__label-arrow:before {content: \"▾\";}#sk-container-id-4 div.sk-estimator input.sk-toggleable__control:checked~label.sk-toggleable__label {background-color: #d4ebff;}#sk-container-id-4 div.sk-label input.sk-toggleable__control:checked~label.sk-toggleable__label {background-color: #d4ebff;}#sk-container-id-4 input.sk-hidden--visually {border: 0;clip: rect(1px 1px 1px 1px);clip: rect(1px, 1px, 1px, 1px);height: 1px;margin: -1px;overflow: hidden;padding: 0;position: absolute;width: 1px;}#sk-container-id-4 div.sk-estimator {font-family: monospace;background-color: #f0f8ff;border: 1px dotted black;border-radius: 0.25em;box-sizing: border-box;margin-bottom: 0.5em;}#sk-container-id-4 div.sk-estimator:hover {background-color: #d4ebff;}#sk-container-id-4 div.sk-parallel-item::after {content: \"\";width: 100%;border-bottom: 1px solid gray;flex-grow: 1;}#sk-container-id-4 div.sk-label:hover label.sk-toggleable__label {background-color: #d4ebff;}#sk-container-id-4 div.sk-serial::before {content: \"\";position: absolute;border-left: 1px solid gray;box-sizing: border-box;top: 0;bottom: 0;left: 50%;z-index: 0;}#sk-container-id-4 div.sk-serial {display: flex;flex-direction: column;align-items: center;background-color: white;padding-right: 0.2em;padding-left: 0.2em;position: relative;}#sk-container-id-4 div.sk-item {position: relative;z-index: 1;}#sk-container-id-4 div.sk-parallel {display: flex;align-items: stretch;justify-content: center;background-color: white;position: relative;}#sk-container-id-4 div.sk-item::before, #sk-container-id-4 div.sk-parallel-item::before {content: \"\";position: absolute;border-left: 1px solid gray;box-sizing: border-box;top: 0;bottom: 0;left: 50%;z-index: -1;}#sk-container-id-4 div.sk-parallel-item {display: flex;flex-direction: column;z-index: 1;position: relative;background-color: white;}#sk-container-id-4 div.sk-parallel-item:first-child::after {align-self: flex-end;width: 50%;}#sk-container-id-4 div.sk-parallel-item:last-child::after {align-self: flex-start;width: 50%;}#sk-container-id-4 div.sk-parallel-item:only-child::after {width: 0;}#sk-container-id-4 div.sk-dashed-wrapped {border: 1px dashed gray;margin: 0 0.4em 0.5em 0.4em;box-sizing: border-box;padding-bottom: 0.4em;background-color: white;}#sk-container-id-4 div.sk-label label {font-family: monospace;font-weight: bold;display: inline-block;line-height: 1.2em;}#sk-container-id-4 div.sk-label-container {text-align: center;}#sk-container-id-4 div.sk-container {/* jupyter's `normalize.less` sets `[hidden] { display: none; }` but bootstrap.min.css set `[hidden] { display: none !important; }` so we also need the `!important` here to be able to override the default hidden behavior on the sphinx rendered scikit-learn.org. See: https://github.com/scikit-learn/scikit-learn/issues/21755 */display: inline-block !important;position: relative;}#sk-container-id-4 div.sk-text-repr-fallback {display: none;}</style><div id=\"sk-container-id-4\" class=\"sk-top-container\"><div class=\"sk-text-repr-fallback\"><pre>Ridge(alpha=0.1)</pre><b>In a Jupyter environment, please rerun this cell to show the HTML representation or trust the notebook. <br />On GitHub, the HTML representation is unable to render, please try loading this page with nbviewer.org.</b></div><div class=\"sk-container\" hidden><div class=\"sk-item\"><div class=\"sk-estimator sk-toggleable\"><input class=\"sk-toggleable__control sk-hidden--visually\" id=\"sk-estimator-id-4\" type=\"checkbox\" checked><label for=\"sk-estimator-id-4\" class=\"sk-toggleable__label sk-toggleable__label-arrow\">Ridge</label><div class=\"sk-toggleable__content\"><pre>Ridge(alpha=0.1)</pre></div></div></div></div></div>"
      ],
      "text/plain": [
       "Ridge(alpha=0.1)"
      ]
     },
     "execution_count": 239,
     "metadata": {},
     "output_type": "execute_result"
    }
   ],
   "source": [
    "regresja_liniowa_Rigde.fit(dane_treningowe[predyktory], dane_treningowe['docelowa_temp'])"
   ]
  },
  {
   "cell_type": "code",
   "execution_count": 240,
   "id": "40bc4fba",
   "metadata": {},
   "outputs": [],
   "source": [
    "predykcje = regresja_liniowa_Rigde.predict(dane_testowe[predyktory])"
   ]
  },
  {
   "cell_type": "code",
   "execution_count": 241,
   "id": "6a90fd6e",
   "metadata": {},
   "outputs": [],
   "source": [
    "wartości_błędu_obliczeniowego = mean_absolute_error(dane_testowe['docelowa_temp'], predykcje)"
   ]
  },
  {
   "cell_type": "code",
   "execution_count": 242,
   "id": "74988d37",
   "metadata": {},
   "outputs": [],
   "source": [
    "połączone_kolumny = pd.concat([dane_testowe['docelowa_temp'], pd.DataFrame(predykcje, index = dane_testowe.index)], axis = 1)"
   ]
  },
  {
   "cell_type": "code",
   "execution_count": 243,
   "id": "476ef09a",
   "metadata": {},
   "outputs": [],
   "source": [
    "połączone_kolumny.columns = ['aktualna_temp','przewidywana_temp']"
   ]
  },
  {
   "cell_type": "code",
   "execution_count": 244,
   "id": "2b132d26",
   "metadata": {},
   "outputs": [
    {
     "data": {
      "text/plain": [
       "(            aktualna_temp  przewidywana_temp\n",
       " Data                                        \n",
       " 2023-05-31           16.2          13.793464\n",
       " 2023-05-30           16.0          14.681609\n",
       " 2023-05-29           13.9          14.580547\n",
       " 2023-05-28           14.6          12.086729\n",
       " 2023-05-27           15.9          12.429925\n",
       " ...                   ...                ...\n",
       " 2017-01-06           -4.5         -11.284630\n",
       " 2017-01-05            0.9          -3.448857\n",
       " 2017-01-04           -1.2           1.253925\n",
       " 2017-01-03           -2.6          -2.265136\n",
       " 2017-01-02           -3.7          -3.858647\n",
       " \n",
       " [2341 rows x 2 columns],\n",
       " 1.573569545765164)"
      ]
     },
     "execution_count": 244,
     "metadata": {},
     "output_type": "execute_result"
    }
   ],
   "source": [
    "połączone_kolumny, wartości_błędu_obliczeniowego"
   ]
  },
  {
   "cell_type": "code",
   "execution_count": 245,
   "id": "a15e2dff",
   "metadata": {},
   "outputs": [
    {
     "data": {
      "text/plain": [
       "<Axes: xlabel='Data'>"
      ]
     },
     "execution_count": 245,
     "metadata": {},
     "output_type": "execute_result"
    },
    {
     "data": {
      "image/png": "[encoded data removed]",
      "text/plain": [
       "<Figure size 640x480 with 1 Axes>"
      ]
     },
     "metadata": {},
     "output_type": "display_data"
    }
   ],
   "source": [
    "połączone_kolumny.plot()"
   ]
  },
  {
   "cell_type": "code",
   "execution_count": 246,
   "id": "a98c0e4f",
   "metadata": {},
   "outputs": [
    {
     "data": {
      "text/plain": [
       "array([[-0.28088371,  0.55789127,  0.70281849]])"
      ]
     },
     "execution_count": 246,
     "metadata": {},
     "output_type": "execute_result"
    }
   ],
   "source": [
    "regresja_liniowa_Rigde.coef_"
   ]
  },
  {
   "cell_type": "code",
   "execution_count": 247,
   "id": "06b69cb9",
   "metadata": {},
   "outputs": [],
   "source": [
    "def tworzenie_predykcji(predyktory, skrócony_zbiór_danych, regresja_liniowa):\n",
    "    dane_treningowe = skrócony_zbiór_danych.loc[:\"2017-01-01\"]\n",
    "    dane_treningowe = skrócony_zbiór_danych.loc[\"2017-01-02\":]\n",
    "    regresja_liniowa.fit(dane_treningowe[predyktory], dane_treningowe['docelowa_temp'])\n",
    "    predykcje = regresja_liniowa.predict(dane_testowe[predyktory])\n",
    "    wartości_błędu_obliczeniowego = mean_absolute_error(dane_testowe['docelowa_temp'], predykcje)\n",
    "    połączone_kolumny = pd.concat([dane_testowe['docelowa_temp'], pd.DataFrame(predykcje, index = dane_testowe.index)], axis = 1)\n",
    "    połączone_kolumny.columns = ['aktualna','przewidywana']\n",
    "    return wartości_błędu_obliczeniowego, połączone_kolumny"
   ]
  },
  {
   "cell_type": "code",
   "execution_count": 253,
   "id": "fc3d8382",
   "metadata": {},
   "outputs": [
    {
     "data": {
      "text/plain": [
       "(1.5733257246434886,\n",
       "             aktualna  przewidywana\n",
       " Data                              \n",
       " 2023-05-31      16.2     14.150432\n",
       " 2023-05-30      16.0     14.902708\n",
       " 2023-05-29      13.9     14.737609\n",
       " 2023-05-28      14.6     12.299708\n",
       " 2023-05-27      15.9     12.821672\n",
       " ...              ...           ...\n",
       " 2017-01-06      -4.5    -11.721310\n",
       " 2017-01-05       0.9     -3.678946\n",
       " 2017-01-04      -1.2      1.368586\n",
       " 2017-01-03      -2.6     -1.911446\n",
       " 2017-01-02      -3.7     -3.622546\n",
       " \n",
       " [2341 rows x 2 columns])"
      ]
     },
     "execution_count": 253,
     "metadata": {},
     "output_type": "execute_result"
    }
   ],
   "source": [
    "tworzenie_predykcji(predyktory, skrócony_zbiór_danych, regresja_liniowa_Lasso)"
   ]
  },
  {
   "cell_type": "code",
   "execution_count": 250,
   "id": "1866eae1",
   "metadata": {},
   "outputs": [
    {
     "data": {
      "text/html": [
       "<div>\n",
       "<style scoped>\n",
       "    .dataframe tbody tr th:only-of-type {\n",
       "        vertical-align: middle;\n",
       "    }\n",
       "\n",
       "    .dataframe tbody tr th {\n",
       "        vertical-align: top;\n",
       "    }\n",
       "\n",
       "    .dataframe thead tr th {\n",
       "        text-align: left;\n",
       "    }\n",
       "\n",
       "    .dataframe thead tr:last-of-type th {\n",
       "        text-align: right;\n",
       "    }\n",
       "</style>\n",
       "<table border=\"1\" class=\"dataframe\">\n",
       "  <thead>\n",
       "    <tr>\n",
       "      <th></th>\n",
       "      <th>maks_temp</th>\n",
       "      <th>maks_miesięczny</th>\n",
       "    </tr>\n",
       "    <tr>\n",
       "      <th>Data</th>\n",
       "      <th></th>\n",
       "      <th></th>\n",
       "    </tr>\n",
       "  </thead>\n",
       "  <tbody>\n",
       "    <tr>\n",
       "      <th>2023-05-01</th>\n",
       "      <td>18.5</td>\n",
       "      <td>NaN</td>\n",
       "    </tr>\n",
       "    <tr>\n",
       "      <th>2023-04-30</th>\n",
       "      <td>15.8</td>\n",
       "      <td>NaN</td>\n",
       "    </tr>\n",
       "    <tr>\n",
       "      <th>2023-04-29</th>\n",
       "      <td>15.5</td>\n",
       "      <td>NaN</td>\n",
       "    </tr>\n",
       "    <tr>\n",
       "      <th>2023-04-28</th>\n",
       "      <td>16.0</td>\n",
       "      <td>NaN</td>\n",
       "    </tr>\n",
       "    <tr>\n",
       "      <th>2023-04-27</th>\n",
       "      <td>9.8</td>\n",
       "      <td>NaN</td>\n",
       "    </tr>\n",
       "    <tr>\n",
       "      <th>...</th>\n",
       "      <td>...</td>\n",
       "      <td>...</td>\n",
       "    </tr>\n",
       "    <tr>\n",
       "      <th>1990-07-06</th>\n",
       "      <td>20.4</td>\n",
       "      <td>NaN</td>\n",
       "    </tr>\n",
       "    <tr>\n",
       "      <th>1990-07-05</th>\n",
       "      <td>21.9</td>\n",
       "      <td>NaN</td>\n",
       "    </tr>\n",
       "    <tr>\n",
       "      <th>1990-07-04</th>\n",
       "      <td>18.3</td>\n",
       "      <td>NaN</td>\n",
       "    </tr>\n",
       "    <tr>\n",
       "      <th>1990-07-03</th>\n",
       "      <td>20.2</td>\n",
       "      <td>NaN</td>\n",
       "    </tr>\n",
       "    <tr>\n",
       "      <th>1990-07-02</th>\n",
       "      <td>22.4</td>\n",
       "      <td>NaN</td>\n",
       "    </tr>\n",
       "  </tbody>\n",
       "</table>\n",
       "<p>11992 rows × 2 columns</p>\n",
       "</div>"
      ],
      "text/plain": [
       "           maks_temp maks_miesięczny\n",
       "Data                                \n",
       "2023-05-01      18.5             NaN\n",
       "2023-04-30      15.8             NaN\n",
       "2023-04-29      15.5             NaN\n",
       "2023-04-28      16.0             NaN\n",
       "2023-04-27       9.8             NaN\n",
       "...              ...             ...\n",
       "1990-07-06      20.4             NaN\n",
       "1990-07-05      21.9             NaN\n",
       "1990-07-04      18.3             NaN\n",
       "1990-07-03      20.2             NaN\n",
       "1990-07-02      22.4             NaN\n",
       "\n",
       "[11992 rows x 2 columns]"
      ]
     },
     "execution_count": 250,
     "metadata": {},
     "output_type": "execute_result"
    }
   ],
   "source": [
    "#Przerobić na średnią z ostatnich 30 dni\n",
    "skrócony_zbiór_danych['maks_miesięczny'] = skrócony_zbiór_danych['maks_temp'].rolling(30).mean()\n",
    "skrócony_zbiór_danych = skrócony_zbiór_danych.iloc[30:,:].copy()\n",
    "skrócony_zbiór_danych['maks_miesięczny'] = skrócony_zbiór_danych['maks_miesięczny'].iloc[30:].copy()\n",
    "skrócony_zbiór_danych[['maks_temp', 'maks_miesięczny']]"
   ]
  },
  {
   "cell_type": "code",
   "execution_count": 38,
   "id": "16815150",
   "metadata": {},
   "outputs": [
    {
     "data": {
      "text/html": [
       "<div>\n",
       "<style scoped>\n",
       "    .dataframe tbody tr th:only-of-type {\n",
       "        vertical-align: middle;\n",
       "    }\n",
       "\n",
       "    .dataframe tbody tr th {\n",
       "        vertical-align: top;\n",
       "    }\n",
       "\n",
       "    .dataframe thead tr th {\n",
       "        text-align: left;\n",
       "    }\n",
       "\n",
       "    .dataframe thead tr:last-of-type th {\n",
       "        text-align: right;\n",
       "    }\n",
       "</style>\n",
       "<table border=\"1\" class=\"dataframe\">\n",
       "  <thead>\n",
       "    <tr>\n",
       "      <th></th>\n",
       "      <th>max_temp</th>\n",
       "    </tr>\n",
       "    <tr>\n",
       "      <th>Data</th>\n",
       "      <th></th>\n",
       "    </tr>\n",
       "  </thead>\n",
       "  <tbody>\n",
       "    <tr>\n",
       "      <th>2023-05-31</th>\n",
       "      <td>22.5</td>\n",
       "    </tr>\n",
       "    <tr>\n",
       "      <th>2023-05-30</th>\n",
       "      <td>21.9</td>\n",
       "    </tr>\n",
       "    <tr>\n",
       "      <th>2023-05-29</th>\n",
       "      <td>22.5</td>\n",
       "    </tr>\n",
       "    <tr>\n",
       "      <th>2023-05-28</th>\n",
       "      <td>20.5</td>\n",
       "    </tr>\n",
       "    <tr>\n",
       "      <th>2023-05-27</th>\n",
       "      <td>19.2</td>\n",
       "    </tr>\n",
       "    <tr>\n",
       "      <th>...</th>\n",
       "      <td>...</td>\n",
       "    </tr>\n",
       "    <tr>\n",
       "      <th>1990-07-06</th>\n",
       "      <td>20.4</td>\n",
       "    </tr>\n",
       "    <tr>\n",
       "      <th>1990-07-05</th>\n",
       "      <td>21.9</td>\n",
       "    </tr>\n",
       "    <tr>\n",
       "      <th>1990-07-04</th>\n",
       "      <td>18.3</td>\n",
       "    </tr>\n",
       "    <tr>\n",
       "      <th>1990-07-03</th>\n",
       "      <td>20.2</td>\n",
       "    </tr>\n",
       "    <tr>\n",
       "      <th>1990-07-02</th>\n",
       "      <td>22.4</td>\n",
       "    </tr>\n",
       "  </tbody>\n",
       "</table>\n",
       "<p>12022 rows × 1 columns</p>\n",
       "</div>"
      ],
      "text/plain": [
       "           max_temp\n",
       "Data               \n",
       "2023-05-31     22.5\n",
       "2023-05-30     21.9\n",
       "2023-05-29     22.5\n",
       "2023-05-28     20.5\n",
       "2023-05-27     19.2\n",
       "...             ...\n",
       "1990-07-06     20.4\n",
       "1990-07-05     21.9\n",
       "1990-07-04     18.3\n",
       "1990-07-03     20.2\n",
       "1990-07-02     22.4\n",
       "\n",
       "[12022 rows x 1 columns]"
      ]
     },
     "execution_count": 38,
     "metadata": {},
     "output_type": "execute_result"
    }
   ],
   "source": []
  },
  {
   "cell_type": "code",
   "execution_count": 233,
   "id": "dc237a94",
   "metadata": {},
   "outputs": [
    {
     "ename": "NameError",
     "evalue": "name 'dataset_temp' is not defined",
     "output_type": "error",
     "traceback": [
      "\u001b[1;31m---------------------------------------------------------------------------\u001b[0m",
      "\u001b[1;31mNameError\u001b[0m                                 Traceback (most recent call last)",
      "Cell \u001b[1;32mIn[233], line 1\u001b[0m\n\u001b[1;32m----> 1\u001b[0m dataset_temp[\u001b[38;5;124m'\u001b[39m\u001b[38;5;124mmax_month_day\u001b[39m\u001b[38;5;124m'\u001b[39m] \u001b[38;5;241m=\u001b[39m np\u001b[38;5;241m.\u001b[39mdivide(dataset_temp[\u001b[38;5;124m'\u001b[39m\u001b[38;5;124mmax_month\u001b[39m\u001b[38;5;124m'\u001b[39m]\u001b[38;5;241m.\u001b[39mvalues, dataset_temp[\u001b[38;5;124m'\u001b[39m\u001b[38;5;124mmax_temp\u001b[39m\u001b[38;5;124m'\u001b[39m]\u001b[38;5;241m.\u001b[39mvalues, out \u001b[38;5;241m=\u001b[39m np\u001b[38;5;241m.\u001b[39mzeros_like(dataset_temp[\u001b[38;5;124m'\u001b[39m\u001b[38;5;124mmax_month\u001b[39m\u001b[38;5;124m'\u001b[39m]\u001b[38;5;241m.\u001b[39mvalues), where \u001b[38;5;241m=\u001b[39m dataset_temp[\u001b[38;5;124m'\u001b[39m\u001b[38;5;124mmax_temp\u001b[39m\u001b[38;5;124m'\u001b[39m]\u001b[38;5;241m.\u001b[39mvalues \u001b[38;5;241m!=\u001b[39m \u001b[38;5;241m0\u001b[39m)\n",
      "\u001b[1;31mNameError\u001b[0m: name 'dataset_temp' is not defined"
     ]
    }
   ],
   "source": [
    "dataset_temp['max_month_day'] = np.divide(dataset_temp['max_month'].values, dataset_temp['max_temp'].values, out = np.zeros_like(dataset_temp['max_month'].values), where = dataset_temp['max_temp'].values != 0)"
   ]
  },
  {
   "cell_type": "code",
   "execution_count": 40,
   "id": "e9110187",
   "metadata": {},
   "outputs": [],
   "source": [
    "dataset_temp[\"max_min\"] = dataset_temp[\"max_temp\"].values - dataset_temp[\"min_temp\"].values"
   ]
  },
  {
   "cell_type": "code",
   "execution_count": 41,
   "id": "eb355966",
   "metadata": {},
   "outputs": [
    {
     "data": {
      "text/html": [
       "<div>\n",
       "<style scoped>\n",
       "    .dataframe tbody tr th:only-of-type {\n",
       "        vertical-align: middle;\n",
       "    }\n",
       "\n",
       "    .dataframe tbody tr th {\n",
       "        vertical-align: top;\n",
       "    }\n",
       "\n",
       "    .dataframe thead tr th {\n",
       "        text-align: left;\n",
       "    }\n",
       "\n",
       "    .dataframe thead tr:last-of-type th {\n",
       "        text-align: right;\n",
       "    }\n",
       "</style>\n",
       "<table border=\"1\" class=\"dataframe\">\n",
       "  <thead>\n",
       "    <tr>\n",
       "      <th></th>\n",
       "      <th>max_month_day</th>\n",
       "    </tr>\n",
       "    <tr>\n",
       "      <th>Data</th>\n",
       "      <th></th>\n",
       "    </tr>\n",
       "  </thead>\n",
       "  <tbody>\n",
       "    <tr>\n",
       "      <th>1990-08-20</th>\n",
       "      <td>0.765972</td>\n",
       "    </tr>\n",
       "    <tr>\n",
       "      <th>1990-08-19</th>\n",
       "      <td>0.926368</td>\n",
       "    </tr>\n",
       "    <tr>\n",
       "      <th>1990-08-18</th>\n",
       "      <td>0.895714</td>\n",
       "    </tr>\n",
       "    <tr>\n",
       "      <th>1990-08-17</th>\n",
       "      <td>0.741026</td>\n",
       "    </tr>\n",
       "    <tr>\n",
       "      <th>1990-08-16</th>\n",
       "      <td>0.708273</td>\n",
       "    </tr>\n",
       "    <tr>\n",
       "      <th>1990-08-15</th>\n",
       "      <td>0.660043</td>\n",
       "    </tr>\n",
       "    <tr>\n",
       "      <th>1990-08-14</th>\n",
       "      <td>0.686359</td>\n",
       "    </tr>\n",
       "    <tr>\n",
       "      <th>1990-08-13</th>\n",
       "      <td>0.735517</td>\n",
       "    </tr>\n",
       "    <tr>\n",
       "      <th>1990-08-12</th>\n",
       "      <td>0.834359</td>\n",
       "    </tr>\n",
       "    <tr>\n",
       "      <th>1990-08-11</th>\n",
       "      <td>1.065210</td>\n",
       "    </tr>\n",
       "    <tr>\n",
       "      <th>1990-08-10</th>\n",
       "      <td>0.933613</td>\n",
       "    </tr>\n",
       "    <tr>\n",
       "      <th>1990-08-09</th>\n",
       "      <td>1.263089</td>\n",
       "    </tr>\n",
       "    <tr>\n",
       "      <th>1990-08-08</th>\n",
       "      <td>1.352121</td>\n",
       "    </tr>\n",
       "    <tr>\n",
       "      <th>1990-08-07</th>\n",
       "      <td>1.027879</td>\n",
       "    </tr>\n",
       "    <tr>\n",
       "      <th>1990-08-06</th>\n",
       "      <td>0.785828</td>\n",
       "    </tr>\n",
       "    <tr>\n",
       "      <th>1990-08-05</th>\n",
       "      <td>0.787402</td>\n",
       "    </tr>\n",
       "    <tr>\n",
       "      <th>1990-08-04</th>\n",
       "      <td>0.921410</td>\n",
       "    </tr>\n",
       "    <tr>\n",
       "      <th>1990-08-03</th>\n",
       "      <td>0.983265</td>\n",
       "    </tr>\n",
       "    <tr>\n",
       "      <th>1990-08-02</th>\n",
       "      <td>0.981030</td>\n",
       "    </tr>\n",
       "    <tr>\n",
       "      <th>1990-08-01</th>\n",
       "      <td>0.848239</td>\n",
       "    </tr>\n",
       "    <tr>\n",
       "      <th>1990-07-31</th>\n",
       "      <td>0.867509</td>\n",
       "    </tr>\n",
       "    <tr>\n",
       "      <th>1990-07-30</th>\n",
       "      <td>0.891111</td>\n",
       "    </tr>\n",
       "    <tr>\n",
       "      <th>1990-07-29</th>\n",
       "      <td>0.818406</td>\n",
       "    </tr>\n",
       "    <tr>\n",
       "      <th>1990-07-28</th>\n",
       "      <td>0.963386</td>\n",
       "    </tr>\n",
       "    <tr>\n",
       "      <th>1990-07-27</th>\n",
       "      <td>1.039149</td>\n",
       "    </tr>\n",
       "    <tr>\n",
       "      <th>1990-07-26</th>\n",
       "      <td>1.085268</td>\n",
       "    </tr>\n",
       "    <tr>\n",
       "      <th>1990-07-25</th>\n",
       "      <td>1.456024</td>\n",
       "    </tr>\n",
       "    <tr>\n",
       "      <th>1990-07-24</th>\n",
       "      <td>1.155079</td>\n",
       "    </tr>\n",
       "    <tr>\n",
       "      <th>1990-07-23</th>\n",
       "      <td>1.077581</td>\n",
       "    </tr>\n",
       "    <tr>\n",
       "      <th>1990-07-22</th>\n",
       "      <td>1.005034</td>\n",
       "    </tr>\n",
       "    <tr>\n",
       "      <th>1990-07-21</th>\n",
       "      <td>0.978704</td>\n",
       "    </tr>\n",
       "    <tr>\n",
       "      <th>1990-07-20</th>\n",
       "      <td>1.128919</td>\n",
       "    </tr>\n",
       "    <tr>\n",
       "      <th>1990-07-19</th>\n",
       "      <td>1.413985</td>\n",
       "    </tr>\n",
       "    <tr>\n",
       "      <th>1990-07-18</th>\n",
       "      <td>1.232155</td>\n",
       "    </tr>\n",
       "    <tr>\n",
       "      <th>1990-07-17</th>\n",
       "      <td>1.053768</td>\n",
       "    </tr>\n",
       "    <tr>\n",
       "      <th>1990-07-16</th>\n",
       "      <td>0.984699</td>\n",
       "    </tr>\n",
       "    <tr>\n",
       "      <th>1990-07-15</th>\n",
       "      <td>1.167159</td>\n",
       "    </tr>\n",
       "    <tr>\n",
       "      <th>1990-07-14</th>\n",
       "      <td>1.030117</td>\n",
       "    </tr>\n",
       "    <tr>\n",
       "      <th>1990-07-13</th>\n",
       "      <td>0.941767</td>\n",
       "    </tr>\n",
       "    <tr>\n",
       "      <th>1990-07-12</th>\n",
       "      <td>1.023043</td>\n",
       "    </tr>\n",
       "    <tr>\n",
       "      <th>1990-07-11</th>\n",
       "      <td>1.193367</td>\n",
       "    </tr>\n",
       "    <tr>\n",
       "      <th>1990-07-10</th>\n",
       "      <td>1.093798</td>\n",
       "    </tr>\n",
       "    <tr>\n",
       "      <th>1990-07-09</th>\n",
       "      <td>0.986307</td>\n",
       "    </tr>\n",
       "    <tr>\n",
       "      <th>1990-07-08</th>\n",
       "      <td>1.179436</td>\n",
       "    </tr>\n",
       "    <tr>\n",
       "      <th>1990-07-07</th>\n",
       "      <td>1.499570</td>\n",
       "    </tr>\n",
       "    <tr>\n",
       "      <th>1990-07-06</th>\n",
       "      <td>1.123856</td>\n",
       "    </tr>\n",
       "    <tr>\n",
       "      <th>1990-07-05</th>\n",
       "      <td>1.040639</td>\n",
       "    </tr>\n",
       "    <tr>\n",
       "      <th>1990-07-04</th>\n",
       "      <td>1.234062</td>\n",
       "    </tr>\n",
       "    <tr>\n",
       "      <th>1990-07-03</th>\n",
       "      <td>1.110726</td>\n",
       "    </tr>\n",
       "    <tr>\n",
       "      <th>1990-07-02</th>\n",
       "      <td>0.992708</td>\n",
       "    </tr>\n",
       "  </tbody>\n",
       "</table>\n",
       "</div>"
      ],
      "text/plain": [
       "           max_month_day\n",
       "Data                    \n",
       "1990-08-20      0.765972\n",
       "1990-08-19      0.926368\n",
       "1990-08-18      0.895714\n",
       "1990-08-17      0.741026\n",
       "1990-08-16      0.708273\n",
       "1990-08-15      0.660043\n",
       "1990-08-14      0.686359\n",
       "1990-08-13      0.735517\n",
       "1990-08-12      0.834359\n",
       "1990-08-11      1.065210\n",
       "1990-08-10      0.933613\n",
       "1990-08-09      1.263089\n",
       "1990-08-08      1.352121\n",
       "1990-08-07      1.027879\n",
       "1990-08-06      0.785828\n",
       "1990-08-05      0.787402\n",
       "1990-08-04      0.921410\n",
       "1990-08-03      0.983265\n",
       "1990-08-02      0.981030\n",
       "1990-08-01      0.848239\n",
       "1990-07-31      0.867509\n",
       "1990-07-30      0.891111\n",
       "1990-07-29      0.818406\n",
       "1990-07-28      0.963386\n",
       "1990-07-27      1.039149\n",
       "1990-07-26      1.085268\n",
       "1990-07-25      1.456024\n",
       "1990-07-24      1.155079\n",
       "1990-07-23      1.077581\n",
       "1990-07-22      1.005034\n",
       "1990-07-21      0.978704\n",
       "1990-07-20      1.128919\n",
       "1990-07-19      1.413985\n",
       "1990-07-18      1.232155\n",
       "1990-07-17      1.053768\n",
       "1990-07-16      0.984699\n",
       "1990-07-15      1.167159\n",
       "1990-07-14      1.030117\n",
       "1990-07-13      0.941767\n",
       "1990-07-12      1.023043\n",
       "1990-07-11      1.193367\n",
       "1990-07-10      1.093798\n",
       "1990-07-09      0.986307\n",
       "1990-07-08      1.179436\n",
       "1990-07-07      1.499570\n",
       "1990-07-06      1.123856\n",
       "1990-07-05      1.040639\n",
       "1990-07-04      1.234062\n",
       "1990-07-03      1.110726\n",
       "1990-07-02      0.992708"
      ]
     },
     "execution_count": 41,
     "metadata": {},
     "output_type": "execute_result"
    }
   ],
   "source": [
    "dataset_temp[\"max_month_day\"].tail(50)"
   ]
  },
  {
   "cell_type": "code",
   "execution_count": 42,
   "id": "790d84ac",
   "metadata": {},
   "outputs": [],
   "source": [
    "predictors = ['śr_temp','max_temp','min_temp','max_month', 'max_min']"
   ]
  },
  {
   "cell_type": "code",
   "execution_count": 43,
   "id": "3e0c1bf7",
   "metadata": {},
   "outputs": [],
   "source": [
    "dataset_temp = dataset_temp.iloc[30:,:].copy()"
   ]
  },
  {
   "cell_type": "code",
   "execution_count": 44,
   "id": "315a37b8",
   "metadata": {},
   "outputs": [
    {
     "data": {
      "text/plain": [
       "(2.1800625093997565,\n",
       "             aktualna  przewidywana\n",
       " Data                              \n",
       " 2023-05-01      15.8     14.814201\n",
       " 2023-04-30      15.5     16.951676\n",
       " 2023-04-29      16.0     14.874466\n",
       " 2023-04-28       9.8     14.028726\n",
       " 2023-04-27       9.7      9.840505\n",
       " ...              ...           ...\n",
       " 2020-01-06       2.1      1.604979\n",
       " 2020-01-05       6.1      3.557370\n",
       " 2020-01-04       5.9      5.763324\n",
       " 2020-01-03       5.3      4.219220\n",
       " 2020-01-02       4.9      5.306162\n",
       " \n",
       " [1216 rows x 2 columns])"
      ]
     },
     "execution_count": 44,
     "metadata": {},
     "output_type": "execute_result"
    }
   ],
   "source": [
    "create_predictions(predictors, dataset_temp, reg)"
   ]
  },
  {
   "cell_type": "code",
   "execution_count": 45,
   "id": "a2b9df66",
   "metadata": {},
   "outputs": [
    {
     "data": {
      "text/plain": [
       "<Axes: xlabel='Data'>"
      ]
     },
     "execution_count": 45,
     "metadata": {},
     "output_type": "execute_result"
    },
    {
     "data": {
      "image/png": "[encoded data removed]",
      "text/plain": [
       "<Figure size 640x480 with 1 Axes>"
      ]
     },
     "metadata": {},
     "output_type": "display_data"
    }
   ],
   "source": [
    "combined.plot()"
   ]
  },
  {
   "cell_type": "code",
   "execution_count": 46,
   "id": "f45c18f3",
   "metadata": {},
   "outputs": [
    {
     "data": {
      "text/html": [
       "<div>\n",
       "<style scoped>\n",
       "    .dataframe tbody tr th:only-of-type {\n",
       "        vertical-align: middle;\n",
       "    }\n",
       "\n",
       "    .dataframe tbody tr th {\n",
       "        vertical-align: top;\n",
       "    }\n",
       "\n",
       "    .dataframe thead tr th {\n",
       "        text-align: left;\n",
       "    }\n",
       "\n",
       "    .dataframe thead tr:last-of-type th {\n",
       "        text-align: right;\n",
       "    }\n",
       "</style>\n",
       "<table border=\"1\" class=\"dataframe\">\n",
       "  <thead>\n",
       "    <tr>\n",
       "      <th></th>\n",
       "      <th>max_temp</th>\n",
       "    </tr>\n",
       "    <tr>\n",
       "      <th>Data</th>\n",
       "      <th></th>\n",
       "    </tr>\n",
       "  </thead>\n",
       "  <tbody>\n",
       "    <tr>\n",
       "      <th>2023-05-01</th>\n",
       "      <td>18.5</td>\n",
       "    </tr>\n",
       "    <tr>\n",
       "      <th>2023-04-30</th>\n",
       "      <td>15.8</td>\n",
       "    </tr>\n",
       "    <tr>\n",
       "      <th>2023-04-29</th>\n",
       "      <td>15.5</td>\n",
       "    </tr>\n",
       "    <tr>\n",
       "      <th>2023-04-28</th>\n",
       "      <td>16.0</td>\n",
       "    </tr>\n",
       "    <tr>\n",
       "      <th>2023-04-27</th>\n",
       "      <td>9.8</td>\n",
       "    </tr>\n",
       "    <tr>\n",
       "      <th>...</th>\n",
       "      <td>...</td>\n",
       "    </tr>\n",
       "    <tr>\n",
       "      <th>1990-07-06</th>\n",
       "      <td>20.4</td>\n",
       "    </tr>\n",
       "    <tr>\n",
       "      <th>1990-07-05</th>\n",
       "      <td>21.9</td>\n",
       "    </tr>\n",
       "    <tr>\n",
       "      <th>1990-07-04</th>\n",
       "      <td>18.3</td>\n",
       "    </tr>\n",
       "    <tr>\n",
       "      <th>1990-07-03</th>\n",
       "      <td>20.2</td>\n",
       "    </tr>\n",
       "    <tr>\n",
       "      <th>1990-07-02</th>\n",
       "      <td>22.4</td>\n",
       "    </tr>\n",
       "  </tbody>\n",
       "</table>\n",
       "<p>11992 rows × 1 columns</p>\n",
       "</div>"
      ],
      "text/plain": [
       "           max_temp\n",
       "Data               \n",
       "2023-05-01     18.5\n",
       "2023-04-30     15.8\n",
       "2023-04-29     15.5\n",
       "2023-04-28     16.0\n",
       "2023-04-27      9.8\n",
       "...             ...\n",
       "1990-07-06     20.4\n",
       "1990-07-05     21.9\n",
       "1990-07-04     18.3\n",
       "1990-07-03     20.2\n",
       "1990-07-02     22.4\n",
       "\n",
       "[11992 rows x 1 columns]"
      ]
     },
     "execution_count": 46,
     "metadata": {},
     "output_type": "execute_result"
    }
   ],
   "source": [
    "dataset_temp['max_temp']"
   ]
  },
  {
   "cell_type": "code",
   "execution_count": 47,
   "id": "f91d32e2",
   "metadata": {},
   "outputs": [],
   "source": [
    "dataset_temp['monthly_avg'] = dataset_temp['max_temp'].values\n",
    "dataset_temp['monthly_avg'] = dataset_temp['monthly_avg'].groupby(dataset_temp.index.month, group_keys=False).apply(lambda x: x.expanding(1).mean())"
   ]
  },
  {
   "cell_type": "code",
   "execution_count": 48,
   "id": "1b5371ac",
   "metadata": {},
   "outputs": [
    {
     "data": {
      "text/html": [
       "<div>\n",
       "<style scoped>\n",
       "    .dataframe tbody tr th:only-of-type {\n",
       "        vertical-align: middle;\n",
       "    }\n",
       "\n",
       "    .dataframe tbody tr th {\n",
       "        vertical-align: top;\n",
       "    }\n",
       "\n",
       "    .dataframe thead tr th {\n",
       "        text-align: left;\n",
       "    }\n",
       "\n",
       "    .dataframe thead tr:last-of-type th {\n",
       "        text-align: right;\n",
       "    }\n",
       "</style>\n",
       "<table border=\"1\" class=\"dataframe\">\n",
       "  <thead>\n",
       "    <tr>\n",
       "      <th></th>\n",
       "      <th>monthly_avg</th>\n",
       "    </tr>\n",
       "    <tr>\n",
       "      <th>Data</th>\n",
       "      <th></th>\n",
       "    </tr>\n",
       "  </thead>\n",
       "  <tbody>\n",
       "    <tr>\n",
       "      <th>2023-05-01</th>\n",
       "      <td>18.500000</td>\n",
       "    </tr>\n",
       "    <tr>\n",
       "      <th>2023-04-30</th>\n",
       "      <td>15.800000</td>\n",
       "    </tr>\n",
       "    <tr>\n",
       "      <th>2023-04-29</th>\n",
       "      <td>15.650000</td>\n",
       "    </tr>\n",
       "    <tr>\n",
       "      <th>2023-04-28</th>\n",
       "      <td>15.766667</td>\n",
       "    </tr>\n",
       "    <tr>\n",
       "      <th>2023-04-27</th>\n",
       "      <td>14.275000</td>\n",
       "    </tr>\n",
       "    <tr>\n",
       "      <th>...</th>\n",
       "      <td>...</td>\n",
       "    </tr>\n",
       "    <tr>\n",
       "      <th>1990-07-06</th>\n",
       "      <td>25.279666</td>\n",
       "    </tr>\n",
       "    <tr>\n",
       "      <th>1990-07-05</th>\n",
       "      <td>25.276349</td>\n",
       "    </tr>\n",
       "    <tr>\n",
       "      <th>1990-07-04</th>\n",
       "      <td>25.269510</td>\n",
       "    </tr>\n",
       "    <tr>\n",
       "      <th>1990-07-03</th>\n",
       "      <td>25.264545</td>\n",
       "    </tr>\n",
       "    <tr>\n",
       "      <th>1990-07-02</th>\n",
       "      <td>25.261742</td>\n",
       "    </tr>\n",
       "  </tbody>\n",
       "</table>\n",
       "<p>11992 rows × 1 columns</p>\n",
       "</div>"
      ],
      "text/plain": [
       "           monthly_avg\n",
       "Data                  \n",
       "2023-05-01   18.500000\n",
       "2023-04-30   15.800000\n",
       "2023-04-29   15.650000\n",
       "2023-04-28   15.766667\n",
       "2023-04-27   14.275000\n",
       "...                ...\n",
       "1990-07-06   25.279666\n",
       "1990-07-05   25.276349\n",
       "1990-07-04   25.269510\n",
       "1990-07-03   25.264545\n",
       "1990-07-02   25.261742\n",
       "\n",
       "[11992 rows x 1 columns]"
      ]
     },
     "execution_count": 48,
     "metadata": {},
     "output_type": "execute_result"
    }
   ],
   "source": [
    "dataset_temp['monthly_avg']"
   ]
  },
  {
   "cell_type": "code",
   "execution_count": 49,
   "id": "56708de9",
   "metadata": {},
   "outputs": [],
   "source": [
    "dataset_temp['day_of_year_avg'] = dataset_temp['max_temp'].values\n",
    "dataset_temp['day_of_year_avg'] = dataset_temp['day_of_year_avg'].groupby(dataset_temp.index.day_of_year, group_keys=False).apply(lambda x: x.expanding(1).mean())"
   ]
  },
  {
   "cell_type": "code",
   "execution_count": 50,
   "id": "851625f5",
   "metadata": {},
   "outputs": [],
   "source": [
    "dataset_temp['day_of_year_avg']\n",
    "dataset_temp[['opad_deszczu', 'opad_śniegu', 'deszcz_ze_śniegiem']] = dataset_temp[['opad_deszczu', 'opad_śniegu', 'deszcz_ze_śniegiem']].fillna(0)"
   ]
  },
  {
   "cell_type": "code",
   "execution_count": 51,
   "id": "efbb2bce",
   "metadata": {},
   "outputs": [],
   "source": [
    "predictors = ['śr_temp','max_temp','min_temp','max_month', 'max_min', 'monthly_avg', 'day_of_year_avg', 'grunt_temp', 'max_month_day', 'opad_deszczu', 'opad_śniegu', 'deszcz_ze_śniegiem', 'chmury']"
   ]
  },
  {
   "cell_type": "code",
   "execution_count": 52,
   "id": "2668a11a",
   "metadata": {},
   "outputs": [
    {
     "data": {
      "text/plain": [
       "(2.140093672736191,\n",
       "             aktualna  przewidywana\n",
       " Data                              \n",
       " 2023-05-01      15.8     14.988150\n",
       " 2023-04-30      15.5     17.181505\n",
       " 2023-04-29      16.0     14.362769\n",
       " 2023-04-28       9.8     13.680733\n",
       " 2023-04-27       9.7      9.730041\n",
       " ...              ...           ...\n",
       " 2020-01-06       2.1      1.512879\n",
       " 2020-01-05       6.1      4.075776\n",
       " 2020-01-04       5.9      5.103775\n",
       " 2020-01-03       5.3      5.010470\n",
       " 2020-01-02       4.9      5.325343\n",
       " \n",
       " [1216 rows x 2 columns])"
      ]
     },
     "execution_count": 52,
     "metadata": {},
     "output_type": "execute_result"
    }
   ],
   "source": [
    "create_predictions(predictors, dataset_temp, reg)"
   ]
  },
  {
   "cell_type": "code",
   "execution_count": 53,
   "id": "29a5e61c",
   "metadata": {},
   "outputs": [
    {
     "data": {
      "text/plain": [
       "array([[-0.62659221,  0.85091594,  0.85734081,  0.03614353, -0.00642486,\n",
       "         0.03984519,  0.05246682, -0.131503  , -0.00711924,  0.06037923,\n",
       "         0.02356867, -0.02283135, -0.28042273]])"
      ]
     },
     "execution_count": 53,
     "metadata": {},
     "output_type": "execute_result"
    }
   ],
   "source": [
    "reg.coef_"
   ]
  },
  {
   "cell_type": "code",
   "execution_count": 50,
   "id": "2f4dae7e",
   "metadata": {},
   "outputs": [
    {
     "ename": "KeyError",
     "evalue": "'docelowa_temp'",
     "output_type": "error",
     "traceback": [
      "\u001b[1;31m---------------------------------------------------------------------------\u001b[0m",
      "\u001b[1;31mKeyError\u001b[0m                                  Traceback (most recent call last)",
      "File \u001b[1;32mD:\\anaconda3\\Lib\\site-packages\\pandas\\core\\indexes\\base.py:3802\u001b[0m, in \u001b[0;36mIndex.get_loc\u001b[1;34m(self, key, method, tolerance)\u001b[0m\n\u001b[0;32m   3801\u001b[0m \u001b[38;5;28;01mtry\u001b[39;00m:\n\u001b[1;32m-> 3802\u001b[0m     \u001b[38;5;28;01mreturn\u001b[39;00m \u001b[38;5;28mself\u001b[39m\u001b[38;5;241m.\u001b[39m_engine\u001b[38;5;241m.\u001b[39mget_loc(casted_key)\n\u001b[0;32m   3803\u001b[0m \u001b[38;5;28;01mexcept\u001b[39;00m \u001b[38;5;167;01mKeyError\u001b[39;00m \u001b[38;5;28;01mas\u001b[39;00m err:\n",
      "File \u001b[1;32mD:\\anaconda3\\Lib\\site-packages\\pandas\\_libs\\index.pyx:138\u001b[0m, in \u001b[0;36mpandas._libs.index.IndexEngine.get_loc\u001b[1;34m()\u001b[0m\n",
      "File \u001b[1;32mD:\\anaconda3\\Lib\\site-packages\\pandas\\_libs\\index.pyx:165\u001b[0m, in \u001b[0;36mpandas._libs.index.IndexEngine.get_loc\u001b[1;34m()\u001b[0m\n",
      "File \u001b[1;32mpandas\\_libs\\hashtable_class_helper.pxi:5745\u001b[0m, in \u001b[0;36mpandas._libs.hashtable.PyObjectHashTable.get_item\u001b[1;34m()\u001b[0m\n",
      "File \u001b[1;32mpandas\\_libs\\hashtable_class_helper.pxi:5753\u001b[0m, in \u001b[0;36mpandas._libs.hashtable.PyObjectHashTable.get_item\u001b[1;34m()\u001b[0m\n",
      "\u001b[1;31mKeyError\u001b[0m: 'docelowa_temp'",
      "\nThe above exception was the direct cause of the following exception:\n",
      "\u001b[1;31mKeyError\u001b[0m                                  Traceback (most recent call last)",
      "Cell \u001b[1;32mIn[50], line 1\u001b[0m\n\u001b[1;32m----> 1\u001b[0m skrócony_zbiór_danych\u001b[38;5;241m.\u001b[39mcorr()[\u001b[38;5;124m'\u001b[39m\u001b[38;5;124mdocelowa_temp\u001b[39m\u001b[38;5;124m'\u001b[39m]\n",
      "File \u001b[1;32mD:\\anaconda3\\Lib\\site-packages\\pandas\\core\\frame.py:3807\u001b[0m, in \u001b[0;36mDataFrame.__getitem__\u001b[1;34m(self, key)\u001b[0m\n\u001b[0;32m   3805\u001b[0m \u001b[38;5;28;01mif\u001b[39;00m \u001b[38;5;28mself\u001b[39m\u001b[38;5;241m.\u001b[39mcolumns\u001b[38;5;241m.\u001b[39mnlevels \u001b[38;5;241m>\u001b[39m \u001b[38;5;241m1\u001b[39m:\n\u001b[0;32m   3806\u001b[0m     \u001b[38;5;28;01mreturn\u001b[39;00m \u001b[38;5;28mself\u001b[39m\u001b[38;5;241m.\u001b[39m_getitem_multilevel(key)\n\u001b[1;32m-> 3807\u001b[0m indexer \u001b[38;5;241m=\u001b[39m \u001b[38;5;28mself\u001b[39m\u001b[38;5;241m.\u001b[39mcolumns\u001b[38;5;241m.\u001b[39mget_loc(key)\n\u001b[0;32m   3808\u001b[0m \u001b[38;5;28;01mif\u001b[39;00m is_integer(indexer):\n\u001b[0;32m   3809\u001b[0m     indexer \u001b[38;5;241m=\u001b[39m [indexer]\n",
      "File \u001b[1;32mD:\\anaconda3\\Lib\\site-packages\\pandas\\core\\indexes\\multi.py:2916\u001b[0m, in \u001b[0;36mMultiIndex.get_loc\u001b[1;34m(self, key, method)\u001b[0m\n\u001b[0;32m   2913\u001b[0m     \u001b[38;5;28;01mreturn\u001b[39;00m mask\n\u001b[0;32m   2915\u001b[0m \u001b[38;5;28;01mif\u001b[39;00m \u001b[38;5;129;01mnot\u001b[39;00m \u001b[38;5;28misinstance\u001b[39m(key, \u001b[38;5;28mtuple\u001b[39m):\n\u001b[1;32m-> 2916\u001b[0m     loc \u001b[38;5;241m=\u001b[39m \u001b[38;5;28mself\u001b[39m\u001b[38;5;241m.\u001b[39m_get_level_indexer(key, level\u001b[38;5;241m=\u001b[39m\u001b[38;5;241m0\u001b[39m)\n\u001b[0;32m   2917\u001b[0m     \u001b[38;5;28;01mreturn\u001b[39;00m _maybe_to_slice(loc)\n\u001b[0;32m   2919\u001b[0m keylen \u001b[38;5;241m=\u001b[39m \u001b[38;5;28mlen\u001b[39m(key)\n",
      "File \u001b[1;32mD:\\anaconda3\\Lib\\site-packages\\pandas\\core\\indexes\\multi.py:3263\u001b[0m, in \u001b[0;36mMultiIndex._get_level_indexer\u001b[1;34m(self, key, level, indexer)\u001b[0m\n\u001b[0;32m   3259\u001b[0m         \u001b[38;5;28;01mreturn\u001b[39;00m \u001b[38;5;28mslice\u001b[39m(i, j, step)\n\u001b[0;32m   3261\u001b[0m \u001b[38;5;28;01melse\u001b[39;00m:\n\u001b[1;32m-> 3263\u001b[0m     idx \u001b[38;5;241m=\u001b[39m \u001b[38;5;28mself\u001b[39m\u001b[38;5;241m.\u001b[39m_get_loc_single_level_index(level_index, key)\n\u001b[0;32m   3265\u001b[0m     \u001b[38;5;28;01mif\u001b[39;00m level \u001b[38;5;241m>\u001b[39m \u001b[38;5;241m0\u001b[39m \u001b[38;5;129;01mor\u001b[39;00m \u001b[38;5;28mself\u001b[39m\u001b[38;5;241m.\u001b[39m_lexsort_depth \u001b[38;5;241m==\u001b[39m \u001b[38;5;241m0\u001b[39m:\n\u001b[0;32m   3266\u001b[0m         \u001b[38;5;66;03m# Desired level is not sorted\u001b[39;00m\n\u001b[0;32m   3267\u001b[0m         \u001b[38;5;28;01mif\u001b[39;00m \u001b[38;5;28misinstance\u001b[39m(idx, \u001b[38;5;28mslice\u001b[39m):\n\u001b[0;32m   3268\u001b[0m             \u001b[38;5;66;03m# test_get_loc_partial_timestamp_multiindex\u001b[39;00m\n",
      "File \u001b[1;32mD:\\anaconda3\\Lib\\site-packages\\pandas\\core\\indexes\\multi.py:2849\u001b[0m, in \u001b[0;36mMultiIndex._get_loc_single_level_index\u001b[1;34m(self, level_index, key)\u001b[0m\n\u001b[0;32m   2847\u001b[0m     \u001b[38;5;28;01mreturn\u001b[39;00m \u001b[38;5;241m-\u001b[39m\u001b[38;5;241m1\u001b[39m\n\u001b[0;32m   2848\u001b[0m \u001b[38;5;28;01melse\u001b[39;00m:\n\u001b[1;32m-> 2849\u001b[0m     \u001b[38;5;28;01mreturn\u001b[39;00m level_index\u001b[38;5;241m.\u001b[39mget_loc(key)\n",
      "File \u001b[1;32mD:\\anaconda3\\Lib\\site-packages\\pandas\\core\\indexes\\base.py:3804\u001b[0m, in \u001b[0;36mIndex.get_loc\u001b[1;34m(self, key, method, tolerance)\u001b[0m\n\u001b[0;32m   3802\u001b[0m     \u001b[38;5;28;01mreturn\u001b[39;00m \u001b[38;5;28mself\u001b[39m\u001b[38;5;241m.\u001b[39m_engine\u001b[38;5;241m.\u001b[39mget_loc(casted_key)\n\u001b[0;32m   3803\u001b[0m \u001b[38;5;28;01mexcept\u001b[39;00m \u001b[38;5;167;01mKeyError\u001b[39;00m \u001b[38;5;28;01mas\u001b[39;00m err:\n\u001b[1;32m-> 3804\u001b[0m     \u001b[38;5;28;01mraise\u001b[39;00m \u001b[38;5;167;01mKeyError\u001b[39;00m(key) \u001b[38;5;28;01mfrom\u001b[39;00m \u001b[38;5;21;01merr\u001b[39;00m\n\u001b[0;32m   3805\u001b[0m \u001b[38;5;28;01mexcept\u001b[39;00m \u001b[38;5;167;01mTypeError\u001b[39;00m:\n\u001b[0;32m   3806\u001b[0m     \u001b[38;5;66;03m# If we have a listlike key, _check_indexing_error will raise\u001b[39;00m\n\u001b[0;32m   3807\u001b[0m     \u001b[38;5;66;03m#  InvalidIndexError. Otherwise we fall through and re-raise\u001b[39;00m\n\u001b[0;32m   3808\u001b[0m     \u001b[38;5;66;03m#  the TypeError.\u001b[39;00m\n\u001b[0;32m   3809\u001b[0m     \u001b[38;5;28mself\u001b[39m\u001b[38;5;241m.\u001b[39m_check_indexing_error(key)\n",
      "\u001b[1;31mKeyError\u001b[0m: 'docelowa_temp'"
     ]
    }
   ],
   "source": [
    "skrócony_zbiór_danych.corr()['docelowa_temp']"
   ]
  },
  {
   "cell_type": "code",
   "execution_count": 55,
   "id": "ab6e4854",
   "metadata": {},
   "outputs": [],
   "source": [
    "combined['diff'] = (combined['aktualna'] - combined['przewidywana']).abs()"
   ]
  },
  {
   "cell_type": "code",
   "execution_count": 56,
   "id": "518eb9f7",
   "metadata": {},
   "outputs": [
    {
     "data": {
      "text/html": [
       "<div>\n",
       "<style scoped>\n",
       "    .dataframe tbody tr th:only-of-type {\n",
       "        vertical-align: middle;\n",
       "    }\n",
       "\n",
       "    .dataframe tbody tr th {\n",
       "        vertical-align: top;\n",
       "    }\n",
       "\n",
       "    .dataframe thead th {\n",
       "        text-align: right;\n",
       "    }\n",
       "</style>\n",
       "<table border=\"1\" class=\"dataframe\">\n",
       "  <thead>\n",
       "    <tr style=\"text-align: right;\">\n",
       "      <th></th>\n",
       "      <th>aktualna</th>\n",
       "      <th>przewidywana</th>\n",
       "      <th>diff</th>\n",
       "    </tr>\n",
       "    <tr>\n",
       "      <th>Data</th>\n",
       "      <th></th>\n",
       "      <th></th>\n",
       "      <th></th>\n",
       "    </tr>\n",
       "  </thead>\n",
       "  <tbody>\n",
       "    <tr>\n",
       "      <th>2021-12-26</th>\n",
       "      <td>7.9</td>\n",
       "      <td>-5.116543</td>\n",
       "      <td>13.016543</td>\n",
       "    </tr>\n",
       "    <tr>\n",
       "      <th>2020-04-14</th>\n",
       "      <td>21.4</td>\n",
       "      <td>8.705407</td>\n",
       "      <td>12.694593</td>\n",
       "    </tr>\n",
       "    <tr>\n",
       "      <th>2020-05-13</th>\n",
       "      <td>20.9</td>\n",
       "      <td>10.296174</td>\n",
       "      <td>10.603826</td>\n",
       "    </tr>\n",
       "    <tr>\n",
       "      <th>2022-06-21</th>\n",
       "      <td>32.1</td>\n",
       "      <td>21.654256</td>\n",
       "      <td>10.445744</td>\n",
       "    </tr>\n",
       "    <tr>\n",
       "      <th>2018-06-23</th>\n",
       "      <td>26.9</td>\n",
       "      <td>16.780863</td>\n",
       "      <td>10.119137</td>\n",
       "    </tr>\n",
       "  </tbody>\n",
       "</table>\n",
       "</div>"
      ],
      "text/plain": [
       "            aktualna  przewidywana       diff\n",
       "Data                                         \n",
       "2021-12-26       7.9     -5.116543  13.016543\n",
       "2020-04-14      21.4      8.705407  12.694593\n",
       "2020-05-13      20.9     10.296174  10.603826\n",
       "2022-06-21      32.1     21.654256  10.445744\n",
       "2018-06-23      26.9     16.780863  10.119137"
      ]
     },
     "execution_count": 56,
     "metadata": {},
     "output_type": "execute_result"
    }
   ],
   "source": [
    "combined.sort_values('diff', ascending = False).head()"
   ]
  },
  {
   "cell_type": "code",
   "execution_count": 57,
   "id": "603823fa",
   "metadata": {},
   "outputs": [],
   "source": [
    "#Predict weather for the week instead of one day\n",
    "#More predictors\n",
    "#Diff training/test ratio"
   ]
  },
  {
   "cell_type": "code",
   "execution_count": 58,
   "id": "353915a7",
   "metadata": {},
   "outputs": [
    {
     "data": {
      "text/plain": [
       "śr_temp               float64\n",
       "max_temp              float64\n",
       "min_temp              float64\n",
       "grunt_temp            float64\n",
       "opad_deszczu          float64\n",
       "opad_śniegu           float64\n",
       "deszcz_ze_śniegiem    float64\n",
       "chmury                float64\n",
       "docelowa_temp         float64\n",
       "max_month             float64\n",
       "max_month_day         float64\n",
       "max_min               float64\n",
       "monthly_avg           float64\n",
       "day_of_year_avg       float64\n",
       "dtype: object"
      ]
     },
     "execution_count": 58,
     "metadata": {},
     "output_type": "execute_result"
    }
   ],
   "source": [
    "dataset_temp.dtypes"
   ]
  },
  {
   "cell_type": "code",
   "execution_count": 59,
   "id": "c548115b",
   "metadata": {},
   "outputs": [],
   "source": [
    "from sklearn.model_selection import train_test_split\n",
    "from sklearn.neighbors import KNeighborsClassifier\n",
    "import tensorflow as tf"
   ]
  },
  {
   "cell_type": "code",
   "execution_count": 60,
   "id": "29d397c2",
   "metadata": {},
   "outputs": [],
   "source": [
    "x = np.array(dataset_temp['śr_temp'])\n",
    "y = np.array(dataset_temp['docelowa_temp'])"
   ]
  },
  {
   "cell_type": "code",
   "execution_count": 61,
   "id": "0ebd3336",
   "metadata": {},
   "outputs": [],
   "source": [
    "X_train, X_test, y_train, y_test = train_test_split(x,y,test_size = 0.1, random_state = 2)\n",
    "from sklearn.linear_model import LinearRegression"
   ]
  },
  {
   "cell_type": "code",
   "execution_count": 62,
   "id": "543db4ba",
   "metadata": {},
   "outputs": [],
   "source": [
    "def create_predictions_linear(predictors, dataset_temp, reg_lin):\n",
    "    train = dataset_temp.loc[:\"2020-01-01\"]\n",
    "    test = dataset_temp.loc[\"2020-01-02\":]\n",
    "    reg_lin.fit(train[predictors], train['docelowa_temp'])\n",
    "    predictions = reg_lin.predict(test[predictors])\n",
    "    error_lin = mean_absolute_error(test['docelowa_temp'], predictions)\n",
    "    combined_lin = pd.concat([test['docelowa_temp'], pd.DataFrame(predictions, index = test.index)], axis = 1)\n",
    "    combined_lin.columns = ['aktualna','przewidywana']\n",
    "    return error_lin, combined_lin"
   ]
  },
  {
   "cell_type": "code",
   "execution_count": 63,
   "id": "379273b0",
   "metadata": {},
   "outputs": [],
   "source": [
    "reg_lin = LinearRegression()"
   ]
  },
  {
   "cell_type": "code",
   "execution_count": 64,
   "id": "381eae72",
   "metadata": {},
   "outputs": [
    {
     "data": {
      "text/plain": [
       "(2.1400936195831077,\n",
       "             aktualna  przewidywana\n",
       " Data                              \n",
       " 2023-05-01      15.8     14.988133\n",
       " 2023-04-30      15.5     17.181502\n",
       " 2023-04-29      16.0     14.362760\n",
       " 2023-04-28       9.8     13.680737\n",
       " 2023-04-27       9.7      9.730035\n",
       " ...              ...           ...\n",
       " 2020-01-06       2.1      1.512881\n",
       " 2020-01-05       6.1      4.075786\n",
       " 2020-01-04       5.9      5.103742\n",
       " 2020-01-03       5.3      5.010489\n",
       " 2020-01-02       4.9      5.325364\n",
       " \n",
       " [1216 rows x 2 columns])"
      ]
     },
     "execution_count": 64,
     "metadata": {},
     "output_type": "execute_result"
    }
   ],
   "source": [
    "create_predictions_linear(predictors, dataset_temp, reg_lin)"
   ]
  },
  {
   "cell_type": "code",
   "execution_count": 65,
   "id": "2e6f6843",
   "metadata": {},
   "outputs": [
    {
     "data": {
      "text/plain": [
       "(2.140093672736191,\n",
       "             aktualna  przewidywana\n",
       " Data                              \n",
       " 2023-05-01      15.8     14.988150\n",
       " 2023-04-30      15.5     17.181505\n",
       " 2023-04-29      16.0     14.362769\n",
       " 2023-04-28       9.8     13.680733\n",
       " 2023-04-27       9.7      9.730041\n",
       " ...              ...           ...\n",
       " 2020-01-06       2.1      1.512879\n",
       " 2020-01-05       6.1      4.075776\n",
       " 2020-01-04       5.9      5.103775\n",
       " 2020-01-03       5.3      5.010470\n",
       " 2020-01-02       4.9      5.325343\n",
       " \n",
       " [1216 rows x 2 columns])"
      ]
     },
     "execution_count": 65,
     "metadata": {},
     "output_type": "execute_result"
    }
   ],
   "source": [
    "create_predictions(predictors, dataset_temp, reg)"
   ]
  },
  {
   "cell_type": "code",
   "execution_count": 66,
   "id": "f6adcd58",
   "metadata": {},
   "outputs": [],
   "source": [
    "from sklearn.linear_model import Ridge, RidgeCV, Lasso"
   ]
  },
  {
   "cell_type": "code",
   "execution_count": 67,
   "id": "9e83081e",
   "metadata": {},
   "outputs": [],
   "source": [
    "def create_predictions_lasso(predictors, dataset_temp, reg_las):\n",
    "    train = dataset_temp.loc[:\"2020-01-01\"]\n",
    "    test = dataset_temp.loc[\"2020-01-02\":]\n",
    "    reg_las.fit(train[predictors], train['docelowa_temp'])\n",
    "    predictions = reg_las.predict(test[predictors])\n",
    "    error_las = mean_absolute_error(test['docelowa_temp'], predictions)\n",
    "    combined_las = pd.concat([test['docelowa_temp'], pd.DataFrame(predictions, index = test.index)], axis = 1)\n",
    "    combined_las.columns = ['aktualna','przewidywana']\n",
    "    return error_las, combined_las"
   ]
  },
  {
   "cell_type": "code",
   "execution_count": 68,
   "id": "e0db66f1",
   "metadata": {},
   "outputs": [],
   "source": [
    "reg_las = Lasso()"
   ]
  },
  {
   "cell_type": "code",
   "execution_count": 69,
   "id": "c883dcbd",
   "metadata": {},
   "outputs": [
    {
     "data": {
      "text/plain": [
       "(2.211101385996033,\n",
       "             aktualna  przewidywana\n",
       " Data                              \n",
       " 2023-05-01      15.8     15.707223\n",
       " 2023-04-30      15.5     16.587948\n",
       " 2023-04-29      16.0     15.095227\n",
       " 2023-04-28       9.8     14.352083\n",
       " 2023-04-27       9.7      9.942118\n",
       " ...              ...           ...\n",
       " 2020-01-06       2.1      1.994475\n",
       " 2020-01-05       6.1      3.770918\n",
       " 2020-01-04       5.9      6.567669\n",
       " 2020-01-03       5.3      4.181766\n",
       " 2020-01-02       4.9      4.818113\n",
       " \n",
       " [1216 rows x 2 columns])"
      ]
     },
     "execution_count": 69,
     "metadata": {},
     "output_type": "execute_result"
    }
   ],
   "source": [
    "create_predictions_lasso(predictors, dataset_temp, reg_las)"
   ]
  },
  {
   "cell_type": "code",
   "execution_count": 70,
   "id": "976f7a36",
   "metadata": {},
   "outputs": [],
   "source": [
    "def create_predictions_RigdeCV(predictors, dataset_temp, reg_cv):\n",
    "    train = dataset_temp.loc[:\"2020-01-01\"]\n",
    "    test = dataset_temp.loc[\"2020-01-02\":]\n",
    "    reg_cv.fit(train[predictors], train['docelowa_temp'])\n",
    "    predictions = reg_cv.predict(test[predictors])\n",
    "    error_cv = mean_absolute_error(test['docelowa_temp'], predictions)\n",
    "    combined_cv = pd.concat([test['docelowa_temp'], pd.DataFrame(predictions, index = test.index)], axis = 1)\n",
    "    combined_cv.columns = ['aktualna','przewidywana']\n",
    "    return error_cv, combined_cv"
   ]
  },
  {
   "cell_type": "code",
   "execution_count": 71,
   "id": "6e4e8749",
   "metadata": {},
   "outputs": [],
   "source": [
    "reg_cv = RidgeCV()"
   ]
  },
  {
   "cell_type": "code",
   "execution_count": 72,
   "id": "363bfe66",
   "metadata": {},
   "outputs": [
    {
     "data": {
      "text/plain": [
       "(2.1400989157279486,\n",
       "             aktualna  przewidywana\n",
       " Data                              \n",
       " 2023-05-01      15.8     14.989853\n",
       " 2023-04-30      15.5     17.181828\n",
       " 2023-04-29      16.0     14.363616\n",
       " 2023-04-28       9.8     13.680339\n",
       " 2023-04-27       9.7      9.730620\n",
       " ...              ...           ...\n",
       " 2020-01-06       2.1      1.512716\n",
       " 2020-01-05       6.1      4.074724\n",
       " 2020-01-04       5.9      5.107016\n",
       " 2020-01-03       5.3      5.008521\n",
       " 2020-01-02       4.9      5.323279\n",
       " \n",
       " [1216 rows x 2 columns])"
      ]
     },
     "execution_count": 72,
     "metadata": {},
     "output_type": "execute_result"
    }
   ],
   "source": [
    "create_predictions_RigdeCV(predictors, dataset_temp, reg_cv)"
   ]
  },
  {
   "cell_type": "code",
   "execution_count": null,
   "id": "2e69d82b",
   "metadata": {},
   "outputs": [],
   "source": []
  },
  {
   "cell_type": "code",
   "execution_count": 73,
   "id": "be1b67ac",
   "metadata": {},
   "outputs": [
    {
     "name": "stdout",
     "output_type": "stream",
     "text": [
      "(2.1400936195831077,             aktualna  przewidywana\n",
      "Data                              \n",
      "2023-05-01      15.8     14.988133\n",
      "2023-04-30      15.5     17.181502\n",
      "2023-04-29      16.0     14.362760\n",
      "2023-04-28       9.8     13.680737\n",
      "2023-04-27       9.7      9.730035\n",
      "...              ...           ...\n",
      "2020-01-06       2.1      1.512881\n",
      "2020-01-05       6.1      4.075786\n",
      "2020-01-04       5.9      5.103742\n",
      "2020-01-03       5.3      5.010489\n",
      "2020-01-02       4.9      5.325364\n",
      "\n",
      "[1216 rows x 2 columns])\n",
      "(2.1400989157279486,             aktualna  przewidywana\n",
      "Data                              \n",
      "2023-05-01      15.8     14.989853\n",
      "2023-04-30      15.5     17.181828\n",
      "2023-04-29      16.0     14.363616\n",
      "2023-04-28       9.8     13.680339\n",
      "2023-04-27       9.7      9.730620\n",
      "...              ...           ...\n",
      "2020-01-06       2.1      1.512716\n",
      "2020-01-05       6.1      4.074724\n",
      "2020-01-04       5.9      5.107016\n",
      "2020-01-03       5.3      5.008521\n",
      "2020-01-02       4.9      5.323279\n",
      "\n",
      "[1216 rows x 2 columns])\n"
     ]
    }
   ],
   "source": [
    "print(create_predictions_linear(predictors, dataset_temp, reg_lin))\n",
    "print(create_predictions_RigdeCV(predictors, dataset_temp, reg_cv))"
   ]
  },
  {
   "cell_type": "code",
   "execution_count": 74,
   "id": "dfbdaf0b",
   "metadata": {},
   "outputs": [],
   "source": [
    "from sklearn.tree import DecisionTreeRegressor"
   ]
  },
  {
   "cell_type": "code",
   "execution_count": 75,
   "id": "939383a1",
   "metadata": {},
   "outputs": [],
   "source": [
    "regr = DecisionTreeRegressor(max_depth=7)\n",
    "predictors_2 = ['śr_temp','max_temp','min_temp','max_month', 'max_min', 'monthly_avg', 'day_of_year_avg', 'grunt_temp', 'max_month_day', 'chmury']\n",
    "predictors_3 = ['śr_temp','max_temp','min_temp','max_month', 'max_min', 'monthly_avg', 'day_of_year_avg', 'grunt_temp', 'max_month_day', 'chmury']"
   ]
  },
  {
   "cell_type": "code",
   "execution_count": 76,
   "id": "31568801",
   "metadata": {},
   "outputs": [],
   "source": [
    "#regr.fit(train[predictors_2], train['docelowa_temp'])"
   ]
  },
  {
   "cell_type": "code",
   "execution_count": 77,
   "id": "c91bb840",
   "metadata": {},
   "outputs": [],
   "source": [
    "#y_1 = regr.predict(test[predictors_2])"
   ]
  },
  {
   "cell_type": "code",
   "execution_count": 78,
   "id": "97d7c2e0",
   "metadata": {},
   "outputs": [],
   "source": [
    "def create_predictions_Tree(predictors_2, dataset_temp, regr):\n",
    "    train = dataset_temp.loc[:\"2020-01-01\"]\n",
    "    test = dataset_temp.loc[\"2020-01-02\":]\n",
    "    regr.fit(train[predictors_2], train['docelowa_temp'])\n",
    "    predictions = regr.predict(test[predictors_2])\n",
    "    error_r = mean_absolute_error(test['docelowa_temp'], predictions)\n",
    "    combined_r = pd.concat([test['docelowa_temp'], pd.DataFrame(predictions, index = test.index)], axis = 1)\n",
    "    combined_r.columns = ['aktualna','przewidywana']\n",
    "    return error_r, combined_r"
   ]
  },
  {
   "cell_type": "code",
   "execution_count": 79,
   "id": "2171ca50",
   "metadata": {},
   "outputs": [
    {
     "data": {
      "text/plain": [
       "(2.287464379343543,\n",
       "             aktualna  przewidywana\n",
       " Data                              \n",
       " 2023-05-01      15.8     16.939608\n",
       " 2023-04-30      15.5     16.939608\n",
       " 2023-04-29      16.0     14.839109\n",
       " 2023-04-28       9.8     14.839109\n",
       " 2023-04-27       9.7      9.343169\n",
       " ...              ...           ...\n",
       " 2020-01-06       2.1      0.673913\n",
       " 2020-01-05       6.1      2.652381\n",
       " 2020-01-04       5.9      5.909066\n",
       " 2020-01-03       5.3      4.584416\n",
       " 2020-01-02       4.9      4.888312\n",
       " \n",
       " [1216 rows x 2 columns])"
      ]
     },
     "execution_count": 79,
     "metadata": {},
     "output_type": "execute_result"
    }
   ],
   "source": [
    "create_predictions_Tree(predictors_2, dataset_temp, regr)"
   ]
  },
  {
   "cell_type": "code",
   "execution_count": 234,
   "id": "ce1894bb",
   "metadata": {},
   "outputs": [
    {
     "ename": "NameError",
     "evalue": "name 'train_test_split' is not defined",
     "output_type": "error",
     "traceback": [
      "\u001b[1;31m---------------------------------------------------------------------------\u001b[0m",
      "\u001b[1;31mNameError\u001b[0m                                 Traceback (most recent call last)",
      "Cell \u001b[1;32mIn[234], line 1\u001b[0m\n\u001b[1;32m----> 1\u001b[0m X_train, y_train, X_test, y_test \u001b[38;5;241m=\u001b[39m train_test_split(x, y, test_size\u001b[38;5;241m=\u001b[39m\u001b[38;5;241m0.1\u001b[39m, random_state\u001b[38;5;241m=\u001b[39m\u001b[38;5;241m42\u001b[39m)\n",
      "\u001b[1;31mNameError\u001b[0m: name 'train_test_split' is not defined"
     ]
    }
   ],
   "source": [
    "X_train, y_train, X_test, y_test = train_test_split(x, y, test_size=0.1, random_state=42)"
   ]
  },
  {
   "cell_type": "code",
   "execution_count": 235,
   "id": "a9a33a75",
   "metadata": {},
   "outputs": [],
   "source": [
    "# importing the libraries\n",
    "from keras.models import Sequential\n",
    "from keras.layers import Dense, LSTM, Dropout, Bidirectional\n",
    "from keras.optimizers import Adam"
   ]
  },
  {
   "cell_type": "code",
   "execution_count": 82,
   "id": "c1c73ea9",
   "metadata": {},
   "outputs": [],
   "source": [
    "# create ANN model\n",
    "#ANN = Sequential()\n",
    " \n",
    "# Defining the Input layer and FIRST hidden layer, both are same!\n",
    "#ANN.add(Dense(units=5, input_dim=1, kernel_initializer='normal', activation='relu'))\n",
    " \n",
    "# Defining the Second layer of the model\n",
    "# after the first layer we don't have to specify input_dim as keras configure it automatically\n",
    "#ANN.add(Dense(units=5, kernel_initializer='normal', activation='tanh'))\n",
    " \n",
    "# The output neuron is a single fully connected node \n",
    "# Since we will be predicting a single number\n",
    "#ANN.add(Dense(1, kernel_initializer='normal'))\n",
    " \n",
    "# Compiling the model\n",
    "#ANN.compile(loss='mean_squared_error', optimizer='adam')\n",
    " \n",
    "# Fitting the ANN to the Training set\n",
    "#ANN.fit(train[predictors_3], train['docelowa_temp'] ,batch_size = 20, epochs = 20, verbose=1)"
   ]
  },
  {
   "cell_type": "code",
   "execution_count": 254,
   "id": "d4df7f7d",
   "metadata": {},
   "outputs": [
    {
     "data": {
      "text/plain": [
       "array([[[-1.4066666]],\n",
       "\n",
       "       [[-1.3533334]],\n",
       "\n",
       "       [[-1.3166667]],\n",
       "\n",
       "       ...,\n",
       "\n",
       "       [[22.583334 ]],\n",
       "\n",
       "       [[22.436666 ]],\n",
       "\n",
       "       [[22.236666 ]]], dtype=float32)"
      ]
     },
     "execution_count": 254,
     "metadata": {},
     "output_type": "execute_result"
    }
   ],
   "source": [
    "#train1 = sc.fit_transform(train1)\n",
    "train2 = dane_treningowe_1.copy()\n",
    "train2 = train2.reset_index()\n",
    "train2 = np.array(train2)\n",
    "train2 = train2[:,-1]\n",
    "train2 = np.atleast_2d(train2)\n",
    "train2 = np.asarray(train2).astype('float32')\n",
    "train2 = train2.T\n",
    "train2 = np.reshape(train2, (train2.shape[0] , train2.shape[1], 1) )\n",
    "train2"
   ]
  },
  {
   "cell_type": "code",
   "execution_count": 255,
   "id": "129a15ff",
   "metadata": {},
   "outputs": [
    {
     "data": {
      "text/plain": [
       "(9681, 1, 1)"
      ]
     },
     "execution_count": 255,
     "metadata": {},
     "output_type": "execute_result"
    }
   ],
   "source": [
    "train2.shape"
   ]
  },
  {
   "cell_type": "code",
   "execution_count": 256,
   "id": "36b6aa08",
   "metadata": {},
   "outputs": [],
   "source": [
    "#Feature Scaling \n",
    "#from sklearn.preprocessing import MinMaxScaler\n",
    "#sc = MinMaxScaler(feature_range=(0,1))\n"
   ]
  },
  {
   "cell_type": "code",
   "execution_count": 257,
   "id": "58793446",
   "metadata": {},
   "outputs": [
    {
     "data": {
      "text/plain": [
       "array([[[-1.4066666]],\n",
       "\n",
       "       [[-1.3533334]],\n",
       "\n",
       "       [[-1.3166667]],\n",
       "\n",
       "       ...,\n",
       "\n",
       "       [[22.583334 ]],\n",
       "\n",
       "       [[22.436666 ]],\n",
       "\n",
       "       [[22.236666 ]]], dtype=float32)"
      ]
     },
     "execution_count": 257,
     "metadata": {},
     "output_type": "execute_result"
    }
   ],
   "source": [
    "train2"
   ]
  },
  {
   "cell_type": "code",
   "execution_count": 263,
   "id": "d247868a",
   "metadata": {},
   "outputs": [
    {
     "data": {
      "text/plain": [
       "(9681, 1, 1)"
      ]
     },
     "execution_count": 263,
     "metadata": {},
     "output_type": "execute_result"
    }
   ],
   "source": [
    "predictors_2 = dane_treningowe.copy()\n",
    "predictors_2 = predictors_2.reset_index()\n",
    "predictors_2 = np.array(predictors_2)\n",
    "predictors_2 = predictors_2[:,1:2]\n",
    "predictors_2 = np.asarray(predictors_2).astype('float32')\n",
    "predictors_2 = np.reshape(predictors_2, (predictors_2.shape[0] , predictors_2.shape[1], 1) )\n",
    "predictors_2.shape"
   ]
  },
  {
   "cell_type": "code",
   "execution_count": 262,
   "id": "243ae153",
   "metadata": {},
   "outputs": [
    {
     "data": {
      "text/plain": [
       "array([[[-3.7],\n",
       "        [ 4.7]],\n",
       "\n",
       "       [[-3.2],\n",
       "        [ 3.5]],\n",
       "\n",
       "       [[-3.6],\n",
       "        [ 1. ]],\n",
       "\n",
       "       ...,\n",
       "\n",
       "       [[15.2],\n",
       "        [18.3]],\n",
       "\n",
       "       [[15.8],\n",
       "        [20.2]],\n",
       "\n",
       "       [[17.9],\n",
       "        [22.4]]], dtype=float32)"
      ]
     },
     "execution_count": 262,
     "metadata": {},
     "output_type": "execute_result"
    }
   ],
   "source": [
    "\n",
    "predictors_2"
   ]
  },
  {
   "cell_type": "code",
   "execution_count": 88,
   "id": "72acb202",
   "metadata": {},
   "outputs": [],
   "source": [
    "#regressor = Sequential()\n",
    "#regressor.add(LSTM(units=50, return_sequences=True, input_shape = (train[predictors_3].shape[1], 1)))\n",
    "#regressor.add(Dropout(0.2))\n",
    "#regressor.add(LSTM(units= 50 , return_sequences=True))\n",
    "#regressor.add(Dropout(0.2))\n",
    "#regressor.add(LSTM(units= 50 , return_sequences=True))\n",
    "#regressor.add(Dropout(0.2))\n",
    "#regressor.add(LSTM(units= 50))\n",
    "#regressor.add(Dropout(0.2))\n",
    "#regressor.add(Dense(units = 1,activation='linear'))\n",
    "#regressor.compile(optimizer='adam', loss='mean_squared_error')\n",
    "#regressor.fit(train[predictors_3], train['docelowa_temp'], epochs=20 ,batch_size=10 )"
   ]
  },
  {
   "cell_type": "code",
   "execution_count": 270,
   "id": "a26da69d",
   "metadata": {},
   "outputs": [
    {
     "data": {
      "text/plain": [
       "(2341, 1, 1)"
      ]
     },
     "execution_count": 270,
     "metadata": {},
     "output_type": "execute_result"
    }
   ],
   "source": [
    "#test1 = sc.transform(test1)\n",
    "test_2 = dane_testowe_1.copy()\n",
    "test_2 = test_2.reset_index()\n",
    "test_2 = np.array(test_2)\n",
    "test_2 = test_2[:,1:2]\n",
    "test_2 = np.asarray(test_2).astype('float32')\n",
    "test_2 = np.atleast_2d(test_2)\n",
    "#test_2 = test_2.T\n",
    "test_2 = np.reshape(test_2, (test_2.shape[0] , test_2.shape[1], 1 ))\n",
    "type(test_2)\n",
    "test_2.shape"
   ]
  },
  {
   "cell_type": "code",
   "execution_count": 265,
   "id": "6b29efde",
   "metadata": {},
   "outputs": [
    {
     "name": "stdout",
     "output_type": "stream",
     "text": [
      "Epoch 1/20\n",
      "969/969 [==============================] - 41s 12ms/step - loss: 4.0757\n",
      "Epoch 2/20\n",
      "969/969 [==============================] - 12s 12ms/step - loss: 3.6526\n",
      "Epoch 3/20\n",
      "969/969 [==============================] - 13s 13ms/step - loss: 3.6029\n",
      "Epoch 4/20\n",
      "969/969 [==============================] - 12s 13ms/step - loss: 3.6219\n",
      "Epoch 5/20\n",
      "969/969 [==============================] - 13s 14ms/step - loss: 3.6108\n",
      "Epoch 6/20\n",
      "969/969 [==============================] - 14s 14ms/step - loss: 3.5606\n",
      "Epoch 7/20\n",
      "969/969 [==============================] - 18s 19ms/step - loss: 3.5751\n",
      "Epoch 8/20\n",
      "969/969 [==============================] - 14s 15ms/step - loss: 3.5456\n",
      "Epoch 9/20\n",
      "969/969 [==============================] - 13s 13ms/step - loss: 3.5643\n",
      "Epoch 10/20\n",
      "969/969 [==============================] - 12s 13ms/step - loss: 3.5418\n",
      "Epoch 11/20\n",
      "969/969 [==============================] - 12s 12ms/step - loss: 3.5461\n",
      "Epoch 12/20\n",
      "969/969 [==============================] - 12s 12ms/step - loss: 3.5610\n",
      "Epoch 13/20\n",
      "969/969 [==============================] - 12s 12ms/step - loss: 3.5651\n",
      "Epoch 14/20\n",
      "969/969 [==============================] - 12s 12ms/step - loss: 3.5406\n",
      "Epoch 15/20\n",
      "969/969 [==============================] - 12s 13ms/step - loss: 3.5659\n",
      "Epoch 16/20\n",
      "969/969 [==============================] - 12s 13ms/step - loss: 3.5627\n",
      "Epoch 17/20\n",
      "969/969 [==============================] - 12s 12ms/step - loss: 3.5354\n",
      "Epoch 18/20\n",
      "969/969 [==============================] - 12s 12ms/step - loss: 3.5361\n",
      "Epoch 19/20\n",
      "969/969 [==============================] - 12s 12ms/step - loss: 3.5164\n",
      "Epoch 20/20\n",
      "969/969 [==============================] - 12s 13ms/step - loss: 3.5108\n"
     ]
    },
    {
     "data": {
      "text/plain": [
       "<keras.src.callbacks.History at 0x1e243953210>"
      ]
     },
     "execution_count": 265,
     "metadata": {},
     "output_type": "execute_result"
    }
   ],
   "source": [
    "regressor = Sequential()\n",
    "regressor.add(Bidirectional(LSTM(units= 50, return_sequences=True, input_shape = (predictors_2.shape[1], 1))))\n",
    "regressor.add(LSTM(units= 50, return_sequences=True))\n",
    "regressor.add(Dropout(0.2))\n",
    "regressor.add(LSTM(units= 50, return_sequences=True))\n",
    "regressor.add(Dropout(0.2))\n",
    "regressor.add(LSTM(units= 50))\n",
    "regressor.add(Dropout(0.2))\n",
    "regressor.add(Dense(units = 1,activation='linear'))\n",
    "opt = Adam(learning_rate=0.01)\n",
    "regressor.compile(optimizer=opt, loss='mean_absolute_error')\n",
    "regressor.fit(predictors_2, train2, epochs=20, batch_size=10 )"
   ]
  },
  {
   "cell_type": "code",
   "execution_count": null,
   "id": "d8bc4247",
   "metadata": {},
   "outputs": [],
   "source": [
    "#ANN_predicted_temperature = ANN.predict(test[predictors_2])"
   ]
  },
  {
   "cell_type": "code",
   "execution_count": 90,
   "id": "930ef189",
   "metadata": {},
   "outputs": [
    {
     "data": {
      "text/plain": [
       "<keras.src.callbacks.History at 0x29472919b10>"
      ]
     },
     "execution_count": 90,
     "metadata": {},
     "output_type": "execute_result"
    }
   ],
   "source": [
    "tf.keras.callbacks.History()"
   ]
  },
  {
   "cell_type": "code",
   "execution_count": 271,
   "id": "8c031268",
   "metadata": {},
   "outputs": [
    {
     "name": "stdout",
     "output_type": "stream",
     "text": [
      "74/74 [==============================] - 5s 6ms/step\n"
     ]
    }
   ],
   "source": [
    "predicted_temperature = regressor.predict(test_2)\n",
    "#predicted_temperature = sc.inverse_transform(predicted_temperature)\n",
    "#predicted_temperature = np.reshape(predicted_temperature,(predicted_temperature.shape[1],predicted_temperature.shape[0]))"
   ]
  },
  {
   "cell_type": "code",
   "execution_count": 273,
   "id": "92f8e5b4",
   "metadata": {},
   "outputs": [
    {
     "data": {
      "text/html": [
       "<div>\n",
       "<style scoped>\n",
       "    .dataframe tbody tr th:only-of-type {\n",
       "        vertical-align: middle;\n",
       "    }\n",
       "\n",
       "    .dataframe tbody tr th {\n",
       "        vertical-align: top;\n",
       "    }\n",
       "\n",
       "    .dataframe thead th {\n",
       "        text-align: right;\n",
       "    }\n",
       "</style>\n",
       "<table border=\"1\" class=\"dataframe\">\n",
       "  <thead>\n",
       "    <tr style=\"text-align: right;\">\n",
       "      <th></th>\n",
       "      <th>wanted_temp</th>\n",
       "    </tr>\n",
       "    <tr>\n",
       "      <th>Data</th>\n",
       "      <th></th>\n",
       "    </tr>\n",
       "  </thead>\n",
       "  <tbody>\n",
       "    <tr>\n",
       "      <th>2023-05-31</th>\n",
       "      <td>21.952909</td>\n",
       "    </tr>\n",
       "    <tr>\n",
       "      <th>2023-05-30</th>\n",
       "      <td>21.942446</td>\n",
       "    </tr>\n",
       "    <tr>\n",
       "      <th>2023-05-29</th>\n",
       "      <td>21.921684</td>\n",
       "    </tr>\n",
       "    <tr>\n",
       "      <th>2023-05-28</th>\n",
       "      <td>21.328894</td>\n",
       "    </tr>\n",
       "    <tr>\n",
       "      <th>2023-05-27</th>\n",
       "      <td>21.635693</td>\n",
       "    </tr>\n",
       "    <tr>\n",
       "      <th>...</th>\n",
       "      <td>...</td>\n",
       "    </tr>\n",
       "    <tr>\n",
       "      <th>2017-01-06</th>\n",
       "      <td>2.060573</td>\n",
       "    </tr>\n",
       "    <tr>\n",
       "      <th>2017-01-05</th>\n",
       "      <td>2.060581</td>\n",
       "    </tr>\n",
       "    <tr>\n",
       "      <th>2017-01-04</th>\n",
       "      <td>5.052851</td>\n",
       "    </tr>\n",
       "    <tr>\n",
       "      <th>2017-01-03</th>\n",
       "      <td>3.495602</td>\n",
       "    </tr>\n",
       "    <tr>\n",
       "      <th>2017-01-02</th>\n",
       "      <td>2.061398</td>\n",
       "    </tr>\n",
       "  </tbody>\n",
       "</table>\n",
       "<p>2341 rows × 1 columns</p>\n",
       "</div>"
      ],
      "text/plain": [
       "            wanted_temp\n",
       "Data                   \n",
       "2023-05-31    21.952909\n",
       "2023-05-30    21.942446\n",
       "2023-05-29    21.921684\n",
       "2023-05-28    21.328894\n",
       "2023-05-27    21.635693\n",
       "...                 ...\n",
       "2017-01-06     2.060573\n",
       "2017-01-05     2.060581\n",
       "2017-01-04     5.052851\n",
       "2017-01-03     3.495602\n",
       "2017-01-02     2.061398\n",
       "\n",
       "[2341 rows x 1 columns]"
      ]
     },
     "execution_count": 273,
     "metadata": {},
     "output_type": "execute_result"
    }
   ],
   "source": [
    "predicted_temperature = pd.DataFrame(predicted_temperature)\n",
    "predicted_temperature.index = dane_testowe_1.index.copy()\n",
    "predicted_temperature.columns = ['wanted_temp']\n",
    "predicted_temperature"
   ]
  },
  {
   "cell_type": "code",
   "execution_count": null,
   "id": "cb6dd802",
   "metadata": {},
   "outputs": [],
   "source": [
    "test['docelowa_temp'].plot()"
   ]
  },
  {
   "cell_type": "code",
   "execution_count": null,
   "id": "a7931099",
   "metadata": {},
   "outputs": [],
   "source": [
    "predicted_temp = pd.DataFrame(predicted_temperature)"
   ]
  },
  {
   "cell_type": "code",
   "execution_count": null,
   "id": "11d51c76",
   "metadata": {},
   "outputs": [],
   "source": [
    "predicted_temp = pd.DataFrame(predicted_temp.values.reshape((1276,1)))"
   ]
  },
  {
   "cell_type": "code",
   "execution_count": null,
   "id": "3362e7b4",
   "metadata": {},
   "outputs": [],
   "source": [
    "predicted_temp = predicted_temp.astype('float64')"
   ]
  },
  {
   "cell_type": "code",
   "execution_count": null,
   "id": "ad0f3df1",
   "metadata": {},
   "outputs": [],
   "source": [
    "predicted_temp.index = test.index"
   ]
  },
  {
   "cell_type": "code",
   "execution_count": null,
   "id": "b3020466",
   "metadata": {},
   "outputs": [],
   "source": [
    "ANN_predicted_temperature = pd.DataFrame(ANN_predicted_temperature)\n",
    "ANN_predicted_temperature.index = test.index"
   ]
  },
  {
   "cell_type": "code",
   "execution_count": null,
   "id": "061fbf6c",
   "metadata": {},
   "outputs": [],
   "source": [
    "fig, ax = plt.subplots()\n",
    "ax2 = ax.twinx()\n",
    "predicted_temp.plot(ax=ax)\n",
    "test['docelowa_temp'].plot(ax=ax2, color = 'red')"
   ]
  },
  {
   "cell_type": "code",
   "execution_count": null,
   "id": "5d762836",
   "metadata": {},
   "outputs": [],
   "source": [
    "fig1, ax1 = plt.subplots()\n",
    "ax3 = ax1.twinx()\n",
    "combined['przewidywana'].plot(ax=ax1)\n",
    "test['docelowa_temp'].plot(ax=ax3, color = 'red')"
   ]
  },
  {
   "cell_type": "code",
   "execution_count": 94,
   "id": "da5bca5b",
   "metadata": {},
   "outputs": [],
   "source": [
    "error_2 = mean_absolute_error(test['docelowa_temp'], combined['przewidywana'])\n",
    "#error_3 = mean_absolute_error(test['docelowa_temp'], predicted_temp)\n",
    "#error_4 = mean_absolute_error(test['docelowa_temp'], ANN_predicted_temperature)\n",
    "error_5 = mean_absolute_error(test['docelowa_temp'], predicted_temperature)"
   ]
  },
  {
   "cell_type": "code",
   "execution_count": null,
   "id": "e3542a4c",
   "metadata": {},
   "outputs": [],
   "source": [
    "test_2['wanted_temp'] = test_2['wanted_temp'].astype('float64')"
   ]
  },
  {
   "cell_type": "code",
   "execution_count": 95,
   "id": "7d3309cf",
   "metadata": {},
   "outputs": [
    {
     "data": {
      "text/plain": [
       "5.114904324568962"
      ]
     },
     "execution_count": 95,
     "metadata": {},
     "output_type": "execute_result"
    }
   ],
   "source": [
    "error_5"
   ]
  },
  {
   "cell_type": "code",
   "execution_count": 111,
   "id": "5354b76d",
   "metadata": {},
   "outputs": [
    {
     "ename": "NameError",
     "evalue": "name 'ANN_predicted_temperature' is not defined",
     "output_type": "error",
     "traceback": [
      "\u001b[1;31m---------------------------------------------------------------------------\u001b[0m",
      "\u001b[1;31mNameError\u001b[0m                                 Traceback (most recent call last)",
      "Cell \u001b[1;32mIn[111], line 3\u001b[0m\n\u001b[0;32m      1\u001b[0m fig4, ax4 \u001b[38;5;241m=\u001b[39m plt\u001b[38;5;241m.\u001b[39msubplots()\n\u001b[0;32m      2\u001b[0m ax5 \u001b[38;5;241m=\u001b[39m ax4\u001b[38;5;241m.\u001b[39mtwinx()\n\u001b[1;32m----> 3\u001b[0m ANN_predicted_temperature\u001b[38;5;241m.\u001b[39mplot(ax\u001b[38;5;241m=\u001b[39max4)\n\u001b[0;32m      4\u001b[0m test[\u001b[38;5;124m'\u001b[39m\u001b[38;5;124mdocelowa_temp\u001b[39m\u001b[38;5;124m'\u001b[39m]\u001b[38;5;241m.\u001b[39mplot(ax\u001b[38;5;241m=\u001b[39max5, color \u001b[38;5;241m=\u001b[39m \u001b[38;5;124m'\u001b[39m\u001b[38;5;124mred\u001b[39m\u001b[38;5;124m'\u001b[39m)\n",
      "\u001b[1;31mNameError\u001b[0m: name 'ANN_predicted_temperature' is not defined"
     ]
    },
    {
     "data": {
      "image/png": "[encoded data removed]",
      "text/plain": [
       "<Figure size 640x480 with 2 Axes>"
      ]
     },
     "metadata": {},
     "output_type": "display_data"
    }
   ],
   "source": [
    "fig4, ax4 = plt.subplots()\n",
    "ax5 = ax4.twinx()\n",
    "ANN_predicted_temperature.plot(ax=ax4)\n",
    "test['docelowa_temp'].plot(ax=ax5, color = 'red')"
   ]
  },
  {
   "cell_type": "code",
   "execution_count": 95,
   "id": "4420c4a7",
   "metadata": {},
   "outputs": [
    {
     "data": {
      "text/plain": [
       "<Axes: xlabel='Data'>"
      ]
     },
     "execution_count": 95,
     "metadata": {},
     "output_type": "execute_result"
    },
    {
     "data": {
      "image/png": "[encoded data removed]",
      "text/plain": [
       "<Figure size 640x480 with 2 Axes>"
      ]
     },
     "metadata": {},
     "output_type": "display_data"
    }
   ],
   "source": [
    "fig7, ax7 = plt.subplots()\n",
    "ax8 = ax7.twinx()\n",
    "predicted_temperature.plot(ax=ax7, color = 'green')\n",
    "test['docelowa_temp'].plot(ax=ax8, color = 'red')"
   ]
  },
  {
   "cell_type": "code",
   "execution_count": 97,
   "id": "81217d38",
   "metadata": {},
   "outputs": [
    {
     "data": {
      "text/plain": [
       "4.354382339744617"
      ]
     },
     "execution_count": 97,
     "metadata": {},
     "output_type": "execute_result"
    }
   ],
   "source": [
    "error_5"
   ]
  },
  {
   "cell_type": "code",
   "execution_count": null,
   "id": "d8b11239",
   "metadata": {},
   "outputs": [],
   "source": []
  },
  {
   "cell_type": "code",
   "execution_count": null,
   "id": "c225fec6",
   "metadata": {},
   "outputs": [],
   "source": []
  }
 ],
 "metadata": {
  "kernelspec": {
   "display_name": "Python 3 (ipykernel)",
   "language": "python",
   "name": "python3"
  },
  "language_info": {
   "codemirror_mode": {
    "name": "ipython",
    "version": 3
   },
   "file_extension": ".py",
   "mimetype": "text/x-python",
   "name": "python",
   "nbconvert_exporter": "python",
   "pygments_lexer": "ipython3",
   "version": "3.11.3"
  }
 },
 "nbformat": 4,
 "nbformat_minor": 5
}
